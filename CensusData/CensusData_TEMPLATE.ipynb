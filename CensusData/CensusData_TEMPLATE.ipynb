{
 "cells": [
  {
   "cell_type": "code",
   "execution_count": null,
   "metadata": {},
   "outputs": [],
   "source": [
    "# Dependencies\n",
    "import numpy as np\n",
    "import pandas as pd\n",
    "import requests\n",
    "import json\n",
    "\n",
    "from config import census_key"
   ]
  },
  {
   "cell_type": "code",
   "execution_count": null,
   "metadata": {},
   "outputs": [],
   "source": [
    "#Due to Census' API restraints this code is only valid for 2009-2018. Below list must remain in chronological order\n",
    "years = [2009, 2010, 2011, 2012, 2013, 2014, 2015, 2017, 2016, 2017, 2018]\n",
    "\n",
    "#Params to be passed into API call, DO NOT INCLUCE SPACES\n",
    "census_variables = \"B01003_001E,B02001_002E,B02001_003E,B02001_004E,B02001_005E,B02001_006E,B02001_008E,B03001_003E\" "
   ]
  },
  {
   "cell_type": "code",
   "execution_count": null,
   "metadata": {
    "scrolled": true
   },
   "outputs": [],
   "source": [
    "#This blank list will hold the yearly API results\n",
    "output = []\n",
    "\n",
    "for year in years: \n",
    "    \n",
    "    #API base url is dependent on year\n",
    "    if year == 2009: #2009 Detailed Tables API Call\n",
    "        url = f'https://api.census.gov/data/{year}/acs5?key={census_key}&get={census_variables},NAME&for=state:*'      \n",
    "\n",
    "    elif year == 2010: #2010 Detailed Tables API Call     \n",
    "        url = f'https://api.census.gov/data/{year}/acs/acs5?key={census_key}&get={census_variables},NAME&for=state:*'\n",
    "        \n",
    "    else: #2011-2018 Detailed Tables API Call\n",
    "        url = f'https://api.census.gov/data/{year}/acs/acs5?get=NAME,{census_variables}&for=state:*&key={census_key}'\n",
    "        \n",
    "        \n",
    "    #Incorporating try/except to catch any year w/o data        \n",
    "    try:\n",
    "        print(f'Retrieving {year} data...')\n",
    "        print(url)\n",
    "        response = requests.get(url).json()\n",
    "        output.append(response)\n",
    "        print(f'{year} data successfully retrieved!')\n",
    "        print('-------------------')\n",
    "    \n",
    "    except:\n",
    "        print(f'Unable to retrieve {year} data...skipping')"
   ]
  },
  {
   "cell_type": "code",
   "execution_count": null,
   "metadata": {},
   "outputs": [],
   "source": [
    "#Converting yearly lists in dataframes and consolidating into one large df\n",
    "for year in years:\n",
    "    year_index = years.index(year)\n",
    "    data = output[year_index][1:]\n",
    "    headers = output[year_index][0]\n",
    "    \n",
    "    if year_index == 0:\n",
    "        first_year = pd.DataFrame(data, columns = headers)\n",
    "        first_year['year'] = year\n",
    "        first_year = first_year[sorted(first_year.columns)]\n",
    "        census_df = first_year\n",
    "        \n",
    "    else:\n",
    "        headers = output[year_index][0] #setting headers again because column order is not consistent across year\n",
    "        next_year = pd.DataFrame(data, columns = headers)\n",
    "        next_year['year'] = year\n",
    "        next_year = next_year[sorted(next_year.columns)]\n",
    "        census_df = pd.concat([census_df, next_year], ignore_index=True)\n",
    "        \n",
    "census_df.head()"
   ]
  },
  {
   "cell_type": "code",
   "execution_count": null,
   "metadata": {},
   "outputs": [],
   "source": [
    "#rename variables\n",
    "census_df = census_df.rename(columns={\"B01003_001E\" : \"Total Population\",\n",
    "                                      \"B02001_002E\" : \"White (pop)\",\n",
    "                                      \"B02001_003E\" : \"Black (pop)\",\n",
    "                                      \"B02001_004E\" : \"Native/Indigenous (pop)\",\n",
    "                                      \"B02001_005E\" : \"Asian (pop)\",\n",
    "                                      \"B02001_006E\" : \"Pacfic Islander (pop)\",\n",
    "                                      \"B02001_008E\" : \"Mixed Race (pop)\",\n",
    "                                      \"B03001_003E\" : \"Hispanic (pop)\",\n",
    "                                      'NAME':'State'})\n",
    "\n",
    "#reorganize columns, dropping state code\n",
    "census_df = census_df[['State','year', 'Poverty(Pop)', 'Income ($)']]\n",
    "\n",
    "census_df.head()"
   ]
  },
  {
   "cell_type": "code",
   "execution_count": null,
   "metadata": {},
   "outputs": [],
   "source": [
    "census_df.to_csv('../Resources/sadias_variables.csv', index=False)"
   ]
  },
  {
   "cell_type": "code",
   "execution_count": null,
   "metadata": {},
   "outputs": [],
   "source": []
  }
 ],
 "metadata": {
  "kernelspec": {
   "display_name": "Python [conda env:PythonData]",
   "language": "python",
   "name": "conda-env-PythonData-py"
  },
  "language_info": {
   "codemirror_mode": {
    "name": "ipython",
    "version": 3
   },
   "file_extension": ".py",
   "mimetype": "text/x-python",
   "name": "python",
   "nbconvert_exporter": "python",
   "pygments_lexer": "ipython3",
   "version": "3.6.9"
  }
 },
 "nbformat": 4,
 "nbformat_minor": 2
}
