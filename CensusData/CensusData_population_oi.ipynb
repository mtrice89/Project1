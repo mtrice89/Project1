{
 "cells": [
  {
   "cell_type": "code",
   "execution_count": 1,
   "metadata": {},
   "outputs": [],
   "source": [
    "# Dependencies\n",
    "import numpy as np\n",
    "import pandas as pd\n",
    "import requests\n",
    "import json\n",
    "\n",
    "from config import census_key"
   ]
  },
  {
   "cell_type": "code",
   "execution_count": 2,
   "metadata": {},
   "outputs": [],
   "source": [
    "#API Doc: https://www.census.gov/data/developers/data-sets/acs-5year.html\n",
    "#Census Variable: https://gist.github.com/afhaque/60558290d6efd892351c4b64e5c01e9b"
   ]
  },
  {
   "cell_type": "code",
   "execution_count": 3,
   "metadata": {},
   "outputs": [
    {
     "data": {
      "text/plain": [
       "'\\nCENSUS VARIABLE DESCRIPTIONS:\\nB01003_001E,\\tTotal population,\\n'"
      ]
     },
     "execution_count": 3,
     "metadata": {},
     "output_type": "execute_result"
    }
   ],
   "source": [
    "# Due to Census' API restraints this code is only valid for 2009-2018. \n",
    "# Below list must remain in chronological order\n",
    "years = [2009, 2010, 2011, 2012, 2013, 2014, 2015, 2016]\n",
    "\n",
    "# Params to be passed into API call, *DO NOT INCLUCE SPACES\n",
    "census_variables = \"B01003_001E\" \n",
    "\n",
    "'''\n",
    "CENSUS VARIABLE DESCRIPTIONS:\n",
    "B01003_001E,\tTotal population,\n",
    "'''"
   ]
  },
  {
   "cell_type": "code",
   "execution_count": 4,
   "metadata": {
    "scrolled": true
   },
   "outputs": [
    {
     "name": "stdout",
     "output_type": "stream",
     "text": [
      "Retrieving 2009 data...\n",
      "https://api.census.gov/data/2009/acs5?key=56fd45ad99936050c5b62b7ea0591503e40b8364&get=B01003_001E,NAME&for=state:*\n",
      "2009 data successfully retrieved!\n",
      "-------------------\n",
      "Retrieving 2010 data...\n",
      "https://api.census.gov/data/2010/acs/acs5?key=56fd45ad99936050c5b62b7ea0591503e40b8364&get=B01003_001E,NAME&for=state:*\n",
      "2010 data successfully retrieved!\n",
      "-------------------\n",
      "Retrieving 2011 data...\n",
      "https://api.census.gov/data/2011/acs/acs5?get=NAME,B01003_001E&for=state:*&key=56fd45ad99936050c5b62b7ea0591503e40b8364\n",
      "2011 data successfully retrieved!\n",
      "-------------------\n",
      "Retrieving 2012 data...\n",
      "https://api.census.gov/data/2012/acs/acs5?get=NAME,B01003_001E&for=state:*&key=56fd45ad99936050c5b62b7ea0591503e40b8364\n",
      "2012 data successfully retrieved!\n",
      "-------------------\n",
      "Retrieving 2013 data...\n",
      "https://api.census.gov/data/2013/acs/acs5?get=NAME,B01003_001E&for=state:*&key=56fd45ad99936050c5b62b7ea0591503e40b8364\n",
      "Unable to retrieve 2013 data...skipping\n",
      "-------------------\n",
      "Retrieving 2014 data...\n",
      "https://api.census.gov/data/2014/acs/acs5?get=NAME,B01003_001E&for=state:*&key=56fd45ad99936050c5b62b7ea0591503e40b8364\n",
      "Unable to retrieve 2014 data...skipping\n",
      "-------------------\n",
      "Retrieving 2015 data...\n",
      "https://api.census.gov/data/2015/acs/acs5?get=NAME,B01003_001E&for=state:*&key=56fd45ad99936050c5b62b7ea0591503e40b8364\n",
      "Unable to retrieve 2015 data...skipping\n",
      "-------------------\n",
      "Retrieving 2016 data...\n",
      "https://api.census.gov/data/2016/acs/acs5?get=NAME,B01003_001E&for=state:*&key=56fd45ad99936050c5b62b7ea0591503e40b8364\n",
      "2016 data successfully retrieved!\n",
      "-------------------\n",
      "Data retrieval complete\n"
     ]
    }
   ],
   "source": [
    "#This blank list will hold the yearly API results\n",
    "results = []\n",
    "\n",
    "for year in years: \n",
    "    \n",
    "    #API base url is dependent on year\n",
    "    if year == 2009: #2009 Detailed Tables API Call\n",
    "        url = f'https://api.census.gov/data/{year}/acs5?key={census_key}&get={census_variables},NAME&for=state:*'      \n",
    "\n",
    "    elif year == 2010: #2010 Detailed Tables API Call     \n",
    "        url = f'https://api.census.gov/data/{year}/acs/acs5?key={census_key}&get={census_variables},NAME&for=state:*'\n",
    "        \n",
    "    else: #2011-2018 Detailed Tables API Call\n",
    "        url = f'https://api.census.gov/data/{year}/acs/acs5?get=NAME,{census_variables}&for=state:*&key={census_key}'\n",
    "        \n",
    "        \n",
    "    #Incorporating try/except to catch any year w/o data        \n",
    "    try:\n",
    "        print(f'Retrieving {year} data...')\n",
    "        print(url)\n",
    "        response = requests.get(url).json()\n",
    "        results.append(response)\n",
    "        print(f'{year} data successfully retrieved!')\n",
    "        print('-------------------')\n",
    "    \n",
    "    except:\n",
    "        print(f'Unable to retrieve {year} data...skipping')\n",
    "        print('-------------------')\n",
    "        \n",
    "print('Data retrieval complete')"
   ]
  },
  {
   "cell_type": "code",
   "execution_count": null,
   "metadata": {},
   "outputs": [],
   "source": [
    "#Converting api results into yearly dataframes and consolidating into one large df\n",
    "for year in years:\n",
    "    year_index = years.index(year)\n",
    "    data = results[year_index][1:]\n",
    "    headers = results[year_index][0]\n",
    "    \n",
    "    if year_index == 0:\n",
    "        first_year = pd.DataFrame(data, columns = headers)\n",
    "        first_year['Year'] = year\n",
    "        first_year = first_year[sorted(first_year.columns)]\n",
    "        census_df = first_year\n",
    "        \n",
    "    else:\n",
    "        headers = results[year_index][0] #setting headers again bc column order is in consistent across year (ie '09 vs '16)\n",
    "        next_year = pd.DataFrame(data, columns = headers)\n",
    "        next_year['Year'] = year\n",
    "        next_year = next_year[sorted(next_year.columns)]\n",
    "        census_df = pd.concat([census_df, next_year], ignore_index=True)\n",
    "        \n",
    "census_df"
   ]
  },
  {
   "cell_type": "code",
   "execution_count": null,
   "metadata": {},
   "outputs": [],
   "source": [
    "#convert api results to interger\n",
    "census_df = census_df.astype({\"B01003_001E\" : 'int32'})"
   ]
  },
  {
   "cell_type": "code",
   "execution_count": null,
   "metadata": {},
   "outputs": [],
   "source": [
    "#rename variables\n",
    "census_df = census_df.rename(columns={\"B01003_001E\" : \"Total Population\",\n",
    "                                      'NAME':'State'})\n",
    "\n",
    "#reorganize columns, dropping state code\n",
    "census_df = census_df[['State','Year',\"Total Population\",]]"
   ]
  },
  {
   "cell_type": "code",
   "execution_count": null,
   "metadata": {},
   "outputs": [],
   "source": [
    "census_df"
   ]
  },
  {
   "cell_type": "code",
   "execution_count": null,
   "metadata": {},
   "outputs": [],
   "source": [
    "census_df.to_csv('../Resources/pop_data.csv', index=False)"
   ]
  }
 ],
 "metadata": {
  "kernelspec": {
   "display_name": "Python [conda env:PythonData]",
   "language": "python",
   "name": "conda-env-PythonData-py"
  },
  "language_info": {
   "codemirror_mode": {
    "name": "ipython",
    "version": 3
   },
   "file_extension": ".py",
   "mimetype": "text/x-python",
   "name": "python",
   "nbconvert_exporter": "python",
   "pygments_lexer": "ipython3",
   "version": "3.6.9"
  }
 },
 "nbformat": 4,
 "nbformat_minor": 2
}
