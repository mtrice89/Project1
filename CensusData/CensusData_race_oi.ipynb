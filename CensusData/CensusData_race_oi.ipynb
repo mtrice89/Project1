{
 "cells": [
  {
   "cell_type": "code",
   "execution_count": 9,
   "metadata": {},
   "outputs": [],
   "source": [
    "# Dependencies\n",
    "import numpy as np\n",
    "import pandas as pd\n",
    "import requests\n",
    "import json\n",
    "\n",
    "from config import census_key"
   ]
  },
  {
   "cell_type": "code",
   "execution_count": 10,
   "metadata": {},
   "outputs": [],
   "source": [
    "#API Doc: https://www.census.gov/data/developers/data-sets/acs-5year.html\n",
    "#Census Variable: https://gist.github.com/afhaque/60558290d6efd892351c4b64e5c01e9b"
   ]
  },
  {
   "cell_type": "code",
   "execution_count": 11,
   "metadata": {},
   "outputs": [
    {
     "data": {
      "text/plain": [
       "'\\nCENSUS VARIABLE DESCRIPTIONS:\\nB01003_001E,\\tTotal population,\\nB02001_002E,\\tPopulation (White Alone),\\nB02001_003E,\\tPopulation (Black or African American Alone),\\nB02001_004E,\\tPopulation (American Indian or Alaskan Native Alone),\\nB02001_005E,\\tPopulation (Asian Alone),\\nB02001_006E,\\tPopulation (Native Hawaiian and Other Pacific Islander Alone),\\nB02001_008E,\\tPopulation (Two or more races),\\nB03001_003E,\\tPopulation (Hispanic Origin)\\n'"
      ]
     },
     "execution_count": 11,
     "metadata": {},
     "output_type": "execute_result"
    }
   ],
   "source": [
    "# Due to Census' API restraints this code is only valid for 2009-2018. \n",
    "# Below list must remain in chronological order\n",
    "years = [2009, 2010, 2011, 2012, 2013, 2014, 2015, 2016]\n",
    "\n",
    "# Params to be passed into API call, *DO NOT INCLUCE SPACES\n",
    "census_variables = \"B01003_001E\" \n",
    "\n",
    "'''\n",
    "CENSUS VARIABLE DESCRIPTIONS:\n",
    "B01003_001E,\tTotal population,\n",
    "B02001_002E,\tPopulation (White Alone),\n",
    "B02001_003E,\tPopulation (Black or African American Alone),\n",
    "B02001_004E,\tPopulation (American Indian or Alaskan Native Alone),\n",
    "B02001_005E,\tPopulation (Asian Alone),\n",
    "B02001_006E,\tPopulation (Native Hawaiian and Other Pacific Islander Alone),\n",
    "B02001_008E,\tPopulation (Two or more races),\n",
    "B03001_003E,\tPopulation (Hispanic Origin)\n",
    "'''"
   ]
  },
  {
   "cell_type": "code",
   "execution_count": 12,
   "metadata": {
    "scrolled": true
   },
   "outputs": [
    {
     "name": "stdout",
     "output_type": "stream",
     "text": [
      "Retrieving 2009 data...\n",
      "https://api.census.gov/data/2009/acs5?key=56fd45ad99936050c5b62b7ea0591503e40b8364&get=B03001_003E,NAME&for=state:*\n",
      "2009 data successfully retrieved!\n",
      "-------------------\n",
      "Retrieving 2010 data...\n",
      "https://api.census.gov/data/2010/acs/acs5?key=56fd45ad99936050c5b62b7ea0591503e40b8364&get=B03001_003E,NAME&for=state:*\n",
      "2010 data successfully retrieved!\n",
      "-------------------\n",
      "Retrieving 2011 data...\n",
      "https://api.census.gov/data/2011/acs/acs5?get=NAME,B03001_003E&for=state:*&key=56fd45ad99936050c5b62b7ea0591503e40b8364\n",
      "2011 data successfully retrieved!\n",
      "-------------------\n",
      "Retrieving 2012 data...\n",
      "https://api.census.gov/data/2012/acs/acs5?get=NAME,B03001_003E&for=state:*&key=56fd45ad99936050c5b62b7ea0591503e40b8364\n",
      "2012 data successfully retrieved!\n",
      "-------------------\n",
      "Retrieving 2013 data...\n",
      "https://api.census.gov/data/2013/acs/acs5?get=NAME,B03001_003E&for=state:*&key=56fd45ad99936050c5b62b7ea0591503e40b8364\n",
      "2013 data successfully retrieved!\n",
      "-------------------\n",
      "Retrieving 2014 data...\n",
      "https://api.census.gov/data/2014/acs/acs5?get=NAME,B03001_003E&for=state:*&key=56fd45ad99936050c5b62b7ea0591503e40b8364\n",
      "2014 data successfully retrieved!\n",
      "-------------------\n",
      "Retrieving 2015 data...\n",
      "https://api.census.gov/data/2015/acs/acs5?get=NAME,B03001_003E&for=state:*&key=56fd45ad99936050c5b62b7ea0591503e40b8364\n",
      "2015 data successfully retrieved!\n",
      "-------------------\n",
      "Retrieving 2016 data...\n",
      "https://api.census.gov/data/2016/acs/acs5?get=NAME,B03001_003E&for=state:*&key=56fd45ad99936050c5b62b7ea0591503e40b8364\n",
      "2016 data successfully retrieved!\n",
      "-------------------\n",
      "Data retrieval complete\n"
     ]
    }
   ],
   "source": [
    "#This blank list will hold the yearly API results\n",
    "results = []\n",
    "\n",
    "for year in years: \n",
    "    \n",
    "    #API base url is dependent on year\n",
    "    if year == 2009: #2009 Detailed Tables API Call\n",
    "        url = f'https://api.census.gov/data/{year}/acs5?key={census_key}&get={census_variables},NAME&for=state:*'      \n",
    "\n",
    "    elif year == 2010: #2010 Detailed Tables API Call     \n",
    "        url = f'https://api.census.gov/data/{year}/acs/acs5?key={census_key}&get={census_variables},NAME&for=state:*'\n",
    "        \n",
    "    else: #2011-2018 Detailed Tables API Call\n",
    "        url = f'https://api.census.gov/data/{year}/acs/acs5?get=NAME,{census_variables}&for=state:*&key={census_key}'\n",
    "        \n",
    "        \n",
    "    #Incorporating try/except to catch any year w/o data        \n",
    "    try:\n",
    "        print(f'Retrieving {year} data...')\n",
    "        print(url)\n",
    "        response = requests.get(url).json()\n",
    "        results.append(response)\n",
    "        print(f'{year} data successfully retrieved!')\n",
    "        print('-------------------')\n",
    "    \n",
    "    except:\n",
    "        print(f'Unable to retrieve {year} data...skipping')\n",
    "        print('-------------------')\n",
    "        \n",
    "print('Data retrieval complete')"
   ]
  },
  {
   "cell_type": "code",
   "execution_count": 16,
   "metadata": {},
   "outputs": [
    {
     "data": {
      "text/html": [
       "<div>\n",
       "<style scoped>\n",
       "    .dataframe tbody tr th:only-of-type {\n",
       "        vertical-align: middle;\n",
       "    }\n",
       "\n",
       "    .dataframe tbody tr th {\n",
       "        vertical-align: top;\n",
       "    }\n",
       "\n",
       "    .dataframe thead th {\n",
       "        text-align: right;\n",
       "    }\n",
       "</style>\n",
       "<table border=\"1\" class=\"dataframe\">\n",
       "  <thead>\n",
       "    <tr style=\"text-align: right;\">\n",
       "      <th></th>\n",
       "      <th>B03001_003E</th>\n",
       "      <th>NAME</th>\n",
       "      <th>Year</th>\n",
       "      <th>state</th>\n",
       "    </tr>\n",
       "  </thead>\n",
       "  <tbody>\n",
       "    <tr>\n",
       "      <th>0</th>\n",
       "      <td>39661</td>\n",
       "      <td>Alaska</td>\n",
       "      <td>2009</td>\n",
       "      <td>02</td>\n",
       "    </tr>\n",
       "    <tr>\n",
       "      <th>1</th>\n",
       "      <td>130220</td>\n",
       "      <td>Alabama</td>\n",
       "      <td>2009</td>\n",
       "      <td>01</td>\n",
       "    </tr>\n",
       "    <tr>\n",
       "      <th>2</th>\n",
       "      <td>153630</td>\n",
       "      <td>Arkansas</td>\n",
       "      <td>2009</td>\n",
       "      <td>05</td>\n",
       "    </tr>\n",
       "    <tr>\n",
       "      <th>3</th>\n",
       "      <td>1881878</td>\n",
       "      <td>Arizona</td>\n",
       "      <td>2009</td>\n",
       "      <td>04</td>\n",
       "    </tr>\n",
       "    <tr>\n",
       "      <th>4</th>\n",
       "      <td>13102161</td>\n",
       "      <td>California</td>\n",
       "      <td>2009</td>\n",
       "      <td>06</td>\n",
       "    </tr>\n",
       "  </tbody>\n",
       "</table>\n",
       "</div>"
      ],
      "text/plain": [
       "  B03001_003E        NAME  Year state\n",
       "0       39661      Alaska  2009    02\n",
       "1      130220     Alabama  2009    01\n",
       "2      153630    Arkansas  2009    05\n",
       "3     1881878     Arizona  2009    04\n",
       "4    13102161  California  2009    06"
      ]
     },
     "execution_count": 16,
     "metadata": {},
     "output_type": "execute_result"
    }
   ],
   "source": [
    "#Converting api results into yearly dataframes and consolidating into one large df\n",
    "for year in years:\n",
    "    year_index = years.index(year)\n",
    "    data = results[year_index][1:]\n",
    "    headers = results[year_index][0]\n",
    "    \n",
    "    if year_index == 0:\n",
    "        first_year = pd.DataFrame(data, columns = headers)\n",
    "        first_year['Year'] = year\n",
    "        first_year = first_year[sorted(first_year.columns)]\n",
    "        census_df = first_year\n",
    "        \n",
    "    else:\n",
    "        headers = results[year_index][0] #setting headers again bc column order is in consistent across year (ie '09 vs '16)\n",
    "        next_year = pd.DataFrame(data, columns = headers)\n",
    "        next_year['Year'] = year\n",
    "        next_year = next_year[sorted(next_year.columns)]\n",
    "        census_df = pd.concat([census_df, next_year], ignore_index=True)\n",
    "        \n",
    "census_df.head()"
   ]
  },
  {
   "cell_type": "code",
   "execution_count": 17,
   "metadata": {},
   "outputs": [],
   "source": [
    "#convert api results to interger\n",
    "census_df = census_df.astype({\"B03001_003E\" : 'int32'})"
   ]
  },
  {
   "cell_type": "code",
   "execution_count": 18,
   "metadata": {},
   "outputs": [
    {
     "ename": "KeyError",
     "evalue": "\"['Total Population'] not in index\"",
     "output_type": "error",
     "traceback": [
      "\u001b[1;31m---------------------------------------------------------------------------\u001b[0m",
      "\u001b[1;31mKeyError\u001b[0m                                  Traceback (most recent call last)",
      "\u001b[1;32m<ipython-input-18-d5b8b7097d1a>\u001b[0m in \u001b[0;36m<module>\u001b[1;34m\u001b[0m\n\u001b[0;32m      4\u001b[0m \u001b[1;33m\u001b[0m\u001b[0m\n\u001b[0;32m      5\u001b[0m \u001b[1;31m#reorganize columns, dropping state code\u001b[0m\u001b[1;33m\u001b[0m\u001b[1;33m\u001b[0m\u001b[1;33m\u001b[0m\u001b[0m\n\u001b[1;32m----> 6\u001b[1;33m \u001b[0mcensus_df\u001b[0m \u001b[1;33m=\u001b[0m \u001b[0mcensus_df\u001b[0m\u001b[1;33m[\u001b[0m\u001b[1;33m[\u001b[0m\u001b[1;34m'State'\u001b[0m\u001b[1;33m,\u001b[0m\u001b[1;34m'Year'\u001b[0m\u001b[1;33m,\u001b[0m\u001b[1;34m\"Total Population\"\u001b[0m\u001b[1;33m,\u001b[0m\u001b[1;33m]\u001b[0m\u001b[1;33m]\u001b[0m\u001b[1;33m\u001b[0m\u001b[1;33m\u001b[0m\u001b[0m\n\u001b[0m",
      "\u001b[1;32m~\\AppData\\Local\\Continuum\\anaconda3\\envs\\PythonData\\lib\\site-packages\\pandas\\core\\frame.py\u001b[0m in \u001b[0;36m__getitem__\u001b[1;34m(self, key)\u001b[0m\n\u001b[0;32m   2999\u001b[0m             \u001b[1;32mif\u001b[0m \u001b[0mis_iterator\u001b[0m\u001b[1;33m(\u001b[0m\u001b[0mkey\u001b[0m\u001b[1;33m)\u001b[0m\u001b[1;33m:\u001b[0m\u001b[1;33m\u001b[0m\u001b[1;33m\u001b[0m\u001b[0m\n\u001b[0;32m   3000\u001b[0m                 \u001b[0mkey\u001b[0m \u001b[1;33m=\u001b[0m \u001b[0mlist\u001b[0m\u001b[1;33m(\u001b[0m\u001b[0mkey\u001b[0m\u001b[1;33m)\u001b[0m\u001b[1;33m\u001b[0m\u001b[1;33m\u001b[0m\u001b[0m\n\u001b[1;32m-> 3001\u001b[1;33m             \u001b[0mindexer\u001b[0m \u001b[1;33m=\u001b[0m \u001b[0mself\u001b[0m\u001b[1;33m.\u001b[0m\u001b[0mloc\u001b[0m\u001b[1;33m.\u001b[0m\u001b[0m_convert_to_indexer\u001b[0m\u001b[1;33m(\u001b[0m\u001b[0mkey\u001b[0m\u001b[1;33m,\u001b[0m \u001b[0maxis\u001b[0m\u001b[1;33m=\u001b[0m\u001b[1;36m1\u001b[0m\u001b[1;33m,\u001b[0m \u001b[0mraise_missing\u001b[0m\u001b[1;33m=\u001b[0m\u001b[1;32mTrue\u001b[0m\u001b[1;33m)\u001b[0m\u001b[1;33m\u001b[0m\u001b[1;33m\u001b[0m\u001b[0m\n\u001b[0m\u001b[0;32m   3002\u001b[0m \u001b[1;33m\u001b[0m\u001b[0m\n\u001b[0;32m   3003\u001b[0m         \u001b[1;31m# take() does not accept boolean indexers\u001b[0m\u001b[1;33m\u001b[0m\u001b[1;33m\u001b[0m\u001b[1;33m\u001b[0m\u001b[0m\n",
      "\u001b[1;32m~\\AppData\\Local\\Continuum\\anaconda3\\envs\\PythonData\\lib\\site-packages\\pandas\\core\\indexing.py\u001b[0m in \u001b[0;36m_convert_to_indexer\u001b[1;34m(self, obj, axis, is_setter, raise_missing)\u001b[0m\n\u001b[0;32m   1283\u001b[0m                 \u001b[1;31m# When setting, missing keys are not allowed, even with .loc:\u001b[0m\u001b[1;33m\u001b[0m\u001b[1;33m\u001b[0m\u001b[1;33m\u001b[0m\u001b[0m\n\u001b[0;32m   1284\u001b[0m                 \u001b[0mkwargs\u001b[0m \u001b[1;33m=\u001b[0m \u001b[1;33m{\u001b[0m\u001b[1;34m\"raise_missing\"\u001b[0m\u001b[1;33m:\u001b[0m \u001b[1;32mTrue\u001b[0m \u001b[1;32mif\u001b[0m \u001b[0mis_setter\u001b[0m \u001b[1;32melse\u001b[0m \u001b[0mraise_missing\u001b[0m\u001b[1;33m}\u001b[0m\u001b[1;33m\u001b[0m\u001b[1;33m\u001b[0m\u001b[0m\n\u001b[1;32m-> 1285\u001b[1;33m                 \u001b[1;32mreturn\u001b[0m \u001b[0mself\u001b[0m\u001b[1;33m.\u001b[0m\u001b[0m_get_listlike_indexer\u001b[0m\u001b[1;33m(\u001b[0m\u001b[0mobj\u001b[0m\u001b[1;33m,\u001b[0m \u001b[0maxis\u001b[0m\u001b[1;33m,\u001b[0m \u001b[1;33m**\u001b[0m\u001b[0mkwargs\u001b[0m\u001b[1;33m)\u001b[0m\u001b[1;33m[\u001b[0m\u001b[1;36m1\u001b[0m\u001b[1;33m]\u001b[0m\u001b[1;33m\u001b[0m\u001b[1;33m\u001b[0m\u001b[0m\n\u001b[0m\u001b[0;32m   1286\u001b[0m         \u001b[1;32melse\u001b[0m\u001b[1;33m:\u001b[0m\u001b[1;33m\u001b[0m\u001b[1;33m\u001b[0m\u001b[0m\n\u001b[0;32m   1287\u001b[0m             \u001b[1;32mtry\u001b[0m\u001b[1;33m:\u001b[0m\u001b[1;33m\u001b[0m\u001b[1;33m\u001b[0m\u001b[0m\n",
      "\u001b[1;32m~\\AppData\\Local\\Continuum\\anaconda3\\envs\\PythonData\\lib\\site-packages\\pandas\\core\\indexing.py\u001b[0m in \u001b[0;36m_get_listlike_indexer\u001b[1;34m(self, key, axis, raise_missing)\u001b[0m\n\u001b[0;32m   1090\u001b[0m \u001b[1;33m\u001b[0m\u001b[0m\n\u001b[0;32m   1091\u001b[0m         self._validate_read_indexer(\n\u001b[1;32m-> 1092\u001b[1;33m             \u001b[0mkeyarr\u001b[0m\u001b[1;33m,\u001b[0m \u001b[0mindexer\u001b[0m\u001b[1;33m,\u001b[0m \u001b[0mo\u001b[0m\u001b[1;33m.\u001b[0m\u001b[0m_get_axis_number\u001b[0m\u001b[1;33m(\u001b[0m\u001b[0maxis\u001b[0m\u001b[1;33m)\u001b[0m\u001b[1;33m,\u001b[0m \u001b[0mraise_missing\u001b[0m\u001b[1;33m=\u001b[0m\u001b[0mraise_missing\u001b[0m\u001b[1;33m\u001b[0m\u001b[1;33m\u001b[0m\u001b[0m\n\u001b[0m\u001b[0;32m   1093\u001b[0m         )\n\u001b[0;32m   1094\u001b[0m         \u001b[1;32mreturn\u001b[0m \u001b[0mkeyarr\u001b[0m\u001b[1;33m,\u001b[0m \u001b[0mindexer\u001b[0m\u001b[1;33m\u001b[0m\u001b[1;33m\u001b[0m\u001b[0m\n",
      "\u001b[1;32m~\\AppData\\Local\\Continuum\\anaconda3\\envs\\PythonData\\lib\\site-packages\\pandas\\core\\indexing.py\u001b[0m in \u001b[0;36m_validate_read_indexer\u001b[1;34m(self, key, indexer, axis, raise_missing)\u001b[0m\n\u001b[0;32m   1183\u001b[0m             \u001b[1;32mif\u001b[0m \u001b[1;32mnot\u001b[0m \u001b[1;33m(\u001b[0m\u001b[0mself\u001b[0m\u001b[1;33m.\u001b[0m\u001b[0mname\u001b[0m \u001b[1;33m==\u001b[0m \u001b[1;34m\"loc\"\u001b[0m \u001b[1;32mand\u001b[0m \u001b[1;32mnot\u001b[0m \u001b[0mraise_missing\u001b[0m\u001b[1;33m)\u001b[0m\u001b[1;33m:\u001b[0m\u001b[1;33m\u001b[0m\u001b[1;33m\u001b[0m\u001b[0m\n\u001b[0;32m   1184\u001b[0m                 \u001b[0mnot_found\u001b[0m \u001b[1;33m=\u001b[0m \u001b[0mlist\u001b[0m\u001b[1;33m(\u001b[0m\u001b[0mset\u001b[0m\u001b[1;33m(\u001b[0m\u001b[0mkey\u001b[0m\u001b[1;33m)\u001b[0m \u001b[1;33m-\u001b[0m \u001b[0mset\u001b[0m\u001b[1;33m(\u001b[0m\u001b[0max\u001b[0m\u001b[1;33m)\u001b[0m\u001b[1;33m)\u001b[0m\u001b[1;33m\u001b[0m\u001b[1;33m\u001b[0m\u001b[0m\n\u001b[1;32m-> 1185\u001b[1;33m                 \u001b[1;32mraise\u001b[0m \u001b[0mKeyError\u001b[0m\u001b[1;33m(\u001b[0m\u001b[1;34m\"{} not in index\"\u001b[0m\u001b[1;33m.\u001b[0m\u001b[0mformat\u001b[0m\u001b[1;33m(\u001b[0m\u001b[0mnot_found\u001b[0m\u001b[1;33m)\u001b[0m\u001b[1;33m)\u001b[0m\u001b[1;33m\u001b[0m\u001b[1;33m\u001b[0m\u001b[0m\n\u001b[0m\u001b[0;32m   1186\u001b[0m \u001b[1;33m\u001b[0m\u001b[0m\n\u001b[0;32m   1187\u001b[0m             \u001b[1;31m# we skip the warning on Categorical/Interval\u001b[0m\u001b[1;33m\u001b[0m\u001b[1;33m\u001b[0m\u001b[1;33m\u001b[0m\u001b[0m\n",
      "\u001b[1;31mKeyError\u001b[0m: \"['Total Population'] not in index\""
     ]
    }
   ],
   "source": [
    "#rename variables\n",
    "census_df = census_df.rename(columns={\"B01003_001E\" : \"Total Population\",\n",
    "                                      'NAME':'State'})\n",
    "\n",
    "#reorganize columns, dropping state code\n",
    "census_df = census_df[['State','Year',\"Total Population\",]]"
   ]
  },
  {
   "cell_type": "code",
   "execution_count": null,
   "metadata": {},
   "outputs": [],
   "source": [
    "'''#Calculate % of population\n",
    "census_df[\"White (%)\"] = round(census_df[\"White (pop)\"]/census_df['Total Population'],3)*100\n",
    "census_df[\"Black (%)\"] = round(census_df[\"Black (pop)\"]/census_df['Total Population'],3)*100\n",
    "census_df[\"Indigenous (%)\"] = round(census_df[\"Indigenous (pop)\"]/census_df['Total Population'],3)*100\n",
    "census_df[\"Asian (%)\"] = round(census_df[\"Asian (pop)\"]/census_df['Total Population'],3)*100\n",
    "census_df[\"Pacfic Islander (%)\"] = round(census_df[\"Pacfic Islander (pop)\"]/census_df['Total Population'],3)*100\n",
    "census_df[\"Mixed Race (%)\"] = round(census_df[\"Mixed Race (pop)\"]/census_df['Total Population'],3)*100\n",
    "census_df[\"Hispanic (%)\"] = round(census_df[\"Hispanic (pop)\"]/census_df['Total Population'],3)*100'''"
   ]
  },
  {
   "cell_type": "code",
   "execution_count": null,
   "metadata": {},
   "outputs": [],
   "source": [
    "census_df"
   ]
  },
  {
   "cell_type": "code",
   "execution_count": null,
   "metadata": {},
   "outputs": [],
   "source": [
    "census_df.to_csv('../Resources/race_data.csv', index=False)"
   ]
  },
  {
   "cell_type": "code",
   "execution_count": null,
   "metadata": {},
   "outputs": [],
   "source": []
  }
 ],
 "metadata": {
  "kernelspec": {
   "display_name": "Python [conda env:PythonData]",
   "language": "python",
   "name": "conda-env-PythonData-py"
  },
  "language_info": {
   "codemirror_mode": {
    "name": "ipython",
    "version": 3
   },
   "file_extension": ".py",
   "mimetype": "text/x-python",
   "name": "python",
   "nbconvert_exporter": "python",
   "pygments_lexer": "ipython3",
   "version": "3.6.9"
  }
 },
 "nbformat": 4,
 "nbformat_minor": 2
}
