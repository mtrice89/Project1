{
 "cells": [
  {
   "cell_type": "code",
   "execution_count": 115,
   "metadata": {},
   "outputs": [],
   "source": [
    "#Dependencies\n",
    "%matplotlib inline\n",
    "import matplotlib.pyplot as plt\n",
    "import pandas as pd\n",
    "import numpy as np\n",
    "import gmaps\n",
    "import os\n",
    "from scipy.stats import linregress"
   ]
  },
  {
   "cell_type": "code",
   "execution_count": 116,
   "metadata": {},
   "outputs": [
    {
     "data": {
      "text/html": [
       "<div>\n",
       "<style scoped>\n",
       "    .dataframe tbody tr th:only-of-type {\n",
       "        vertical-align: middle;\n",
       "    }\n",
       "\n",
       "    .dataframe tbody tr th {\n",
       "        vertical-align: top;\n",
       "    }\n",
       "\n",
       "    .dataframe thead th {\n",
       "        text-align: right;\n",
       "    }\n",
       "</style>\n",
       "<table border=\"1\" class=\"dataframe\">\n",
       "  <thead>\n",
       "    <tr style=\"text-align: right;\">\n",
       "      <th></th>\n",
       "      <th>State</th>\n",
       "      <th>year</th>\n",
       "      <th>Includes Jails</th>\n",
       "      <th>Prisoner Count</th>\n",
       "      <th>Crime Reporting Change</th>\n",
       "      <th>Crime Estimated</th>\n",
       "      <th>Total Crime</th>\n",
       "    </tr>\n",
       "  </thead>\n",
       "  <tbody>\n",
       "    <tr>\n",
       "      <th>0</th>\n",
       "      <td>Federal</td>\n",
       "      <td>2001</td>\n",
       "      <td>False</td>\n",
       "      <td>149852</td>\n",
       "      <td>NaN</td>\n",
       "      <td>NaN</td>\n",
       "      <td>NaN</td>\n",
       "    </tr>\n",
       "    <tr>\n",
       "      <th>1</th>\n",
       "      <td>Alabama</td>\n",
       "      <td>2001</td>\n",
       "      <td>False</td>\n",
       "      <td>24741</td>\n",
       "      <td>False</td>\n",
       "      <td>False</td>\n",
       "      <td>192835.0</td>\n",
       "    </tr>\n",
       "    <tr>\n",
       "      <th>2</th>\n",
       "      <td>Alaska</td>\n",
       "      <td>2001</td>\n",
       "      <td>True</td>\n",
       "      <td>4570</td>\n",
       "      <td>False</td>\n",
       "      <td>False</td>\n",
       "      <td>26895.0</td>\n",
       "    </tr>\n",
       "    <tr>\n",
       "      <th>3</th>\n",
       "      <td>Arizona</td>\n",
       "      <td>2001</td>\n",
       "      <td>False</td>\n",
       "      <td>27710</td>\n",
       "      <td>False</td>\n",
       "      <td>False</td>\n",
       "      <td>322549.0</td>\n",
       "    </tr>\n",
       "    <tr>\n",
       "      <th>4</th>\n",
       "      <td>Arkansas</td>\n",
       "      <td>2001</td>\n",
       "      <td>False</td>\n",
       "      <td>11489</td>\n",
       "      <td>False</td>\n",
       "      <td>False</td>\n",
       "      <td>111296.0</td>\n",
       "    </tr>\n",
       "  </tbody>\n",
       "</table>\n",
       "</div>"
      ],
      "text/plain": [
       "      State  year  Includes Jails  Prisoner Count Crime Reporting Change  \\\n",
       "0   Federal  2001           False          149852                    NaN   \n",
       "1   Alabama  2001           False           24741                  False   \n",
       "2    Alaska  2001            True            4570                  False   \n",
       "3   Arizona  2001           False           27710                  False   \n",
       "4  Arkansas  2001           False           11489                  False   \n",
       "\n",
       "  Crime Estimated  Total Crime  \n",
       "0             NaN          NaN  \n",
       "1           False     192835.0  \n",
       "2           False      26895.0  \n",
       "3           False     322549.0  \n",
       "4           False     111296.0  "
      ]
     },
     "execution_count": 116,
     "metadata": {},
     "output_type": "execute_result"
    }
   ],
   "source": [
    "#Import crime data\n",
    "crime_file = pd.read_csv('Resources/crime_and_incarceration_by_state.csv')\n",
    "crime_df = pd.DataFrame(crime_file)\n",
    "#crime_df['jurisdiction'] = crime_df['jurisdiction'].str.title()\n",
    "#calculate 'total crimes' column\n",
    "crime_df['Total Crime'] = crime_df['violent_crime_total'] + crime_df['property_crime_total']\n",
    "#Reorganize columns and remove unnecessary columns\n",
    "crime_df = crime_df[['jurisdiction','year','includes_jails','prisoner_count','crime_reporting_change','crimes_estimated','Total Crime']]\n",
    "#rename columns\n",
    "crime_df = crime_df.rename(columns = {'jurisdiction' : 'State',\n",
    "                                      'year' : 'year',\n",
    "                                      'includes_jails' : 'Includes Jails' ,\n",
    "                                      'prisoner_count' : 'Prisoner Count',\n",
    "                                      'crime_reporting_change' : 'Crime Reporting Change',\n",
    "                                      'crimes_estimated' : 'Crime Estimated'})\n",
    "#proper state\n",
    "crime_df['State'] = crime_df['State'].str.title()\n",
    "crime_df.head()\n",
    "\n"
   ]
  },
  {
   "cell_type": "code",
   "execution_count": 117,
   "metadata": {},
   "outputs": [],
   "source": [
    "#Import education data\n",
    "#edu_file = pd.read_csv('Resources/edu_data.csv')\n",
    "#edu_df = pd.DataFrame(edu_file)\n"
   ]
  },
  {
   "cell_type": "code",
   "execution_count": 118,
   "metadata": {},
   "outputs": [
    {
     "data": {
      "text/html": [
       "<div>\n",
       "<style scoped>\n",
       "    .dataframe tbody tr th:only-of-type {\n",
       "        vertical-align: middle;\n",
       "    }\n",
       "\n",
       "    .dataframe tbody tr th {\n",
       "        vertical-align: top;\n",
       "    }\n",
       "\n",
       "    .dataframe thead th {\n",
       "        text-align: right;\n",
       "    }\n",
       "</style>\n",
       "<table border=\"1\" class=\"dataframe\">\n",
       "  <thead>\n",
       "    <tr style=\"text-align: right;\">\n",
       "      <th></th>\n",
       "      <th>State</th>\n",
       "      <th>year</th>\n",
       "      <th>Poverty Variable</th>\n",
       "      <th>Labor Variable</th>\n",
       "    </tr>\n",
       "  </thead>\n",
       "  <tbody>\n",
       "    <tr>\n",
       "      <th>0</th>\n",
       "      <td>Alaska</td>\n",
       "      <td>2009</td>\n",
       "      <td>64038</td>\n",
       "      <td>683142</td>\n",
       "    </tr>\n",
       "    <tr>\n",
       "      <th>1</th>\n",
       "      <td>Alabama</td>\n",
       "      <td>2009</td>\n",
       "      <td>757833</td>\n",
       "      <td>4633360</td>\n",
       "    </tr>\n",
       "    <tr>\n",
       "      <th>2</th>\n",
       "      <td>Arkansas</td>\n",
       "      <td>2009</td>\n",
       "      <td>488788</td>\n",
       "      <td>2838143</td>\n",
       "    </tr>\n",
       "    <tr>\n",
       "      <th>3</th>\n",
       "      <td>Arizona</td>\n",
       "      <td>2009</td>\n",
       "      <td>914040</td>\n",
       "      <td>6324865</td>\n",
       "    </tr>\n",
       "    <tr>\n",
       "      <th>4</th>\n",
       "      <td>California</td>\n",
       "      <td>2009</td>\n",
       "      <td>4694423</td>\n",
       "      <td>36308527</td>\n",
       "    </tr>\n",
       "  </tbody>\n",
       "</table>\n",
       "</div>"
      ],
      "text/plain": [
       "        State  year  Poverty Variable  Labor Variable\n",
       "0      Alaska  2009             64038          683142\n",
       "1     Alabama  2009            757833         4633360\n",
       "2    Arkansas  2009            488788         2838143\n",
       "3     Arizona  2009            914040         6324865\n",
       "4  California  2009           4694423        36308527"
      ]
     },
     "execution_count": 118,
     "metadata": {},
     "output_type": "execute_result"
    }
   ],
   "source": [
    "#Import income/Poverty data (census)\n",
    "inc_file = pd.read_csv('Resources/pov_data.csv')\n",
    "inc_df = pd.DataFrame(inc_file)\n",
    "inc_df.head()\n"
   ]
  },
  {
   "cell_type": "code",
   "execution_count": 119,
   "metadata": {},
   "outputs": [],
   "source": [
    "#Octavia's Topic\n",
    "#x_file = pd.read_csv('Resources/x_data.csv')\n",
    "#x_df = pd.DataFrame(x_file)"
   ]
  },
  {
   "cell_type": "code",
   "execution_count": 120,
   "metadata": {},
   "outputs": [
    {
     "data": {
      "text/html": [
       "<div>\n",
       "<style scoped>\n",
       "    .dataframe tbody tr th:only-of-type {\n",
       "        vertical-align: middle;\n",
       "    }\n",
       "\n",
       "    .dataframe tbody tr th {\n",
       "        vertical-align: top;\n",
       "    }\n",
       "\n",
       "    .dataframe thead th {\n",
       "        text-align: right;\n",
       "    }\n",
       "</style>\n",
       "<table border=\"1\" class=\"dataframe\">\n",
       "  <thead>\n",
       "    <tr style=\"text-align: right;\">\n",
       "      <th></th>\n",
       "      <th>State</th>\n",
       "      <th>year</th>\n",
       "      <th>Includes Jails</th>\n",
       "      <th>Prisoner Count</th>\n",
       "      <th>Crime Reporting Change</th>\n",
       "      <th>Crime Estimated</th>\n",
       "      <th>Total Crime</th>\n",
       "      <th>Poverty Variable</th>\n",
       "      <th>Labor Variable</th>\n",
       "    </tr>\n",
       "  </thead>\n",
       "  <tbody>\n",
       "    <tr>\n",
       "      <th>0</th>\n",
       "      <td>Alabama</td>\n",
       "      <td>2009</td>\n",
       "      <td>False</td>\n",
       "      <td>27241</td>\n",
       "      <td>False</td>\n",
       "      <td>False</td>\n",
       "      <td>199201.0</td>\n",
       "      <td>757833</td>\n",
       "      <td>4633360</td>\n",
       "    </tr>\n",
       "    <tr>\n",
       "      <th>1</th>\n",
       "      <td>Alaska</td>\n",
       "      <td>2009</td>\n",
       "      <td>True</td>\n",
       "      <td>5472</td>\n",
       "      <td>False</td>\n",
       "      <td>False</td>\n",
       "      <td>24962.0</td>\n",
       "      <td>64038</td>\n",
       "      <td>683142</td>\n",
       "    </tr>\n",
       "    <tr>\n",
       "      <th>2</th>\n",
       "      <td>Arizona</td>\n",
       "      <td>2009</td>\n",
       "      <td>False</td>\n",
       "      <td>40544</td>\n",
       "      <td>False</td>\n",
       "      <td>False</td>\n",
       "      <td>264849.0</td>\n",
       "      <td>914040</td>\n",
       "      <td>6324865</td>\n",
       "    </tr>\n",
       "    <tr>\n",
       "      <th>3</th>\n",
       "      <td>Arkansas</td>\n",
       "      <td>2009</td>\n",
       "      <td>False</td>\n",
       "      <td>13338</td>\n",
       "      <td>False</td>\n",
       "      <td>False</td>\n",
       "      <td>123983.0</td>\n",
       "      <td>488788</td>\n",
       "      <td>2838143</td>\n",
       "    </tr>\n",
       "    <tr>\n",
       "      <th>4</th>\n",
       "      <td>California</td>\n",
       "      <td>2009</td>\n",
       "      <td>False</td>\n",
       "      <td>168830</td>\n",
       "      <td>False</td>\n",
       "      <td>False</td>\n",
       "      <td>1184367.0</td>\n",
       "      <td>4694423</td>\n",
       "      <td>36308527</td>\n",
       "    </tr>\n",
       "  </tbody>\n",
       "</table>\n",
       "</div>"
      ],
      "text/plain": [
       "        State  year  Includes Jails  Prisoner Count Crime Reporting Change  \\\n",
       "0     Alabama  2009           False           27241                  False   \n",
       "1      Alaska  2009            True            5472                  False   \n",
       "2     Arizona  2009           False           40544                  False   \n",
       "3    Arkansas  2009           False           13338                  False   \n",
       "4  California  2009           False          168830                  False   \n",
       "\n",
       "  Crime Estimated  Total Crime  Poverty Variable  Labor Variable  \n",
       "0           False     199201.0            757833         4633360  \n",
       "1           False      24962.0             64038          683142  \n",
       "2           False     264849.0            914040         6324865  \n",
       "3           False     123983.0            488788         2838143  \n",
       "4           False    1184367.0           4694423        36308527  "
      ]
     },
     "execution_count": 120,
     "metadata": {},
     "output_type": "execute_result"
    }
   ],
   "source": [
    "#Merge dataframes on state and year...\n",
    "crime_inc = pd.merge(crime_df,inc_df, on=['State','year'])\n",
    "crime_inc.head()"
   ]
  },
  {
   "cell_type": "code",
   "execution_count": 121,
   "metadata": {},
   "outputs": [],
   "source": [
    "#Sadia Topic \n"
   ]
  },
  {
   "cell_type": "code",
   "execution_count": 122,
   "metadata": {},
   "outputs": [],
   "source": [
    "poverty=pd.read_csv(\"Resources/newpov_data.csv\")"
   ]
  },
  {
   "cell_type": "code",
   "execution_count": 123,
   "metadata": {},
   "outputs": [],
   "source": [
    "merge_file=pd.merge(poverty,crime_inc)"
   ]
  },
  {
   "cell_type": "code",
   "execution_count": 124,
   "metadata": {},
   "outputs": [
    {
     "data": {
      "text/html": [
       "<div>\n",
       "<style scoped>\n",
       "    .dataframe tbody tr th:only-of-type {\n",
       "        vertical-align: middle;\n",
       "    }\n",
       "\n",
       "    .dataframe tbody tr th {\n",
       "        vertical-align: top;\n",
       "    }\n",
       "\n",
       "    .dataframe thead th {\n",
       "        text-align: right;\n",
       "    }\n",
       "</style>\n",
       "<table border=\"1\" class=\"dataframe\">\n",
       "  <thead>\n",
       "    <tr style=\"text-align: right;\">\n",
       "      <th></th>\n",
       "      <th>State</th>\n",
       "      <th>year</th>\n",
       "      <th>Poverty</th>\n",
       "      <th>Population</th>\n",
       "      <th>Includes Jails</th>\n",
       "      <th>Prisoner Count</th>\n",
       "      <th>Crime Reporting Change</th>\n",
       "      <th>Crime Estimated</th>\n",
       "      <th>Total Crime</th>\n",
       "      <th>Poverty Variable</th>\n",
       "      <th>Labor Variable</th>\n",
       "    </tr>\n",
       "  </thead>\n",
       "  <tbody>\n",
       "    <tr>\n",
       "      <th>0</th>\n",
       "      <td>Alaska</td>\n",
       "      <td>2009</td>\n",
       "      <td>1137</td>\n",
       "      <td>683142</td>\n",
       "      <td>True</td>\n",
       "      <td>5472</td>\n",
       "      <td>False</td>\n",
       "      <td>False</td>\n",
       "      <td>24962.0</td>\n",
       "      <td>64038</td>\n",
       "      <td>683142</td>\n",
       "    </tr>\n",
       "    <tr>\n",
       "      <th>1</th>\n",
       "      <td>Alabama</td>\n",
       "      <td>2009</td>\n",
       "      <td>14235</td>\n",
       "      <td>4633360</td>\n",
       "      <td>False</td>\n",
       "      <td>27241</td>\n",
       "      <td>False</td>\n",
       "      <td>False</td>\n",
       "      <td>199201.0</td>\n",
       "      <td>757833</td>\n",
       "      <td>4633360</td>\n",
       "    </tr>\n",
       "    <tr>\n",
       "      <th>2</th>\n",
       "      <td>Arkansas</td>\n",
       "      <td>2009</td>\n",
       "      <td>13179</td>\n",
       "      <td>2838143</td>\n",
       "      <td>False</td>\n",
       "      <td>13338</td>\n",
       "      <td>False</td>\n",
       "      <td>False</td>\n",
       "      <td>123983.0</td>\n",
       "      <td>488788</td>\n",
       "      <td>2838143</td>\n",
       "    </tr>\n",
       "    <tr>\n",
       "      <th>3</th>\n",
       "      <td>Arizona</td>\n",
       "      <td>2009</td>\n",
       "      <td>10486</td>\n",
       "      <td>6324865</td>\n",
       "      <td>False</td>\n",
       "      <td>40544</td>\n",
       "      <td>False</td>\n",
       "      <td>False</td>\n",
       "      <td>264849.0</td>\n",
       "      <td>914040</td>\n",
       "      <td>6324865</td>\n",
       "    </tr>\n",
       "    <tr>\n",
       "      <th>4</th>\n",
       "      <td>California</td>\n",
       "      <td>2009</td>\n",
       "      <td>34197</td>\n",
       "      <td>36308527</td>\n",
       "      <td>False</td>\n",
       "      <td>168830</td>\n",
       "      <td>False</td>\n",
       "      <td>False</td>\n",
       "      <td>1184367.0</td>\n",
       "      <td>4694423</td>\n",
       "      <td>36308527</td>\n",
       "    </tr>\n",
       "  </tbody>\n",
       "</table>\n",
       "</div>"
      ],
      "text/plain": [
       "        State  year  Poverty  Population  Includes Jails  Prisoner Count  \\\n",
       "0      Alaska  2009     1137      683142            True            5472   \n",
       "1     Alabama  2009    14235     4633360           False           27241   \n",
       "2    Arkansas  2009    13179     2838143           False           13338   \n",
       "3     Arizona  2009    10486     6324865           False           40544   \n",
       "4  California  2009    34197    36308527           False          168830   \n",
       "\n",
       "  Crime Reporting Change Crime Estimated  Total Crime  Poverty Variable  \\\n",
       "0                  False           False      24962.0             64038   \n",
       "1                  False           False     199201.0            757833   \n",
       "2                  False           False     123983.0            488788   \n",
       "3                  False           False     264849.0            914040   \n",
       "4                  False           False    1184367.0           4694423   \n",
       "\n",
       "   Labor Variable  \n",
       "0          683142  \n",
       "1         4633360  \n",
       "2         2838143  \n",
       "3         6324865  \n",
       "4        36308527  "
      ]
     },
     "execution_count": 124,
     "metadata": {},
     "output_type": "execute_result"
    }
   ],
   "source": [
    "merge_file.head()"
   ]
  },
  {
   "cell_type": "code",
   "execution_count": 125,
   "metadata": {},
   "outputs": [],
   "source": [
    "#bar graph of poverty variable,labor variable,violent crime total "
   ]
  },
  {
   "cell_type": "code",
   "execution_count": 126,
   "metadata": {},
   "outputs": [],
   "source": [
    "by_year_df=pd.DataFrame(merge_file.groupby(['year']).sum()['Total Crime'])"
   ]
  },
  {
   "cell_type": "code",
   "execution_count": 127,
   "metadata": {},
   "outputs": [
    {
     "data": {
      "text/html": [
       "<div>\n",
       "<style scoped>\n",
       "    .dataframe tbody tr th:only-of-type {\n",
       "        vertical-align: middle;\n",
       "    }\n",
       "\n",
       "    .dataframe tbody tr th {\n",
       "        vertical-align: top;\n",
       "    }\n",
       "\n",
       "    .dataframe thead th {\n",
       "        text-align: right;\n",
       "    }\n",
       "</style>\n",
       "<table border=\"1\" class=\"dataframe\">\n",
       "  <thead>\n",
       "    <tr style=\"text-align: right;\">\n",
       "      <th></th>\n",
       "      <th>Total Crime</th>\n",
       "    </tr>\n",
       "    <tr>\n",
       "      <th>year</th>\n",
       "      <th></th>\n",
       "    </tr>\n",
       "  </thead>\n",
       "  <tbody>\n",
       "    <tr>\n",
       "      <th>2009</th>\n",
       "      <td>10626372.0</td>\n",
       "    </tr>\n",
       "    <tr>\n",
       "      <th>2010</th>\n",
       "      <td>10327045.0</td>\n",
       "    </tr>\n",
       "    <tr>\n",
       "      <th>2011</th>\n",
       "      <td>10221687.0</td>\n",
       "    </tr>\n",
       "    <tr>\n",
       "      <th>2012</th>\n",
       "      <td>10180436.0</td>\n",
       "    </tr>\n",
       "    <tr>\n",
       "      <th>2013</th>\n",
       "      <td>9810933.0</td>\n",
       "    </tr>\n",
       "  </tbody>\n",
       "</table>\n",
       "</div>"
      ],
      "text/plain": [
       "      Total Crime\n",
       "year             \n",
       "2009   10626372.0\n",
       "2010   10327045.0\n",
       "2011   10221687.0\n",
       "2012   10180436.0\n",
       "2013    9810933.0"
      ]
     },
     "execution_count": 127,
     "metadata": {},
     "output_type": "execute_result"
    }
   ],
   "source": [
    "by_year_df.head()"
   ]
  },
  {
   "cell_type": "code",
   "execution_count": 128,
   "metadata": {},
   "outputs": [
    {
     "data": {
      "text/plain": [
       "[]"
      ]
     },
     "execution_count": 128,
     "metadata": {},
     "output_type": "execute_result"
    },
    {
     "data": {
      "image/png": "[encoded data removed]",
      "text/plain": [
       "<Figure size 1440x360 with 1 Axes>"
      ]
     },
     "metadata": {
      "needs_background": "light"
     },
     "output_type": "display_data"
    }
   ],
   "source": [
    "#creating a line plot to show the relationship between poverty, employment, and violent crimes.\n",
    "ax=plt.gca()\n",
    "pov_pic= merge_file.plot(kind='line',x='year',y='Poverty Variable',ax=ax)\n",
    "pov_pic.figure.savefig('povline.png')\n",
    "merge_file.plot(kind='line',x='year',y='Labor Variable',ax=ax)\n",
    "fig = plt.gcf()\n",
    "fig = fig.set_size_inches((20,5))\n",
    "plt.plot()"
   ]
  },
  {
   "cell_type": "code",
   "execution_count": 129,
   "metadata": {},
   "outputs": [],
   "source": [
    "pov_graph_info=pd.DataFrame(merge_file.groupby(['year']).sum()['Poverty Variable'])"
   ]
  },
  {
   "cell_type": "code",
   "execution_count": 130,
   "metadata": {},
   "outputs": [],
   "source": [
    "labor_var_info=pd.DataFrame(merge_file.groupby(['year']).sum()['Labor Variable'])"
   ]
  },
  {
   "cell_type": "code",
   "execution_count": 131,
   "metadata": {},
   "outputs": [],
   "source": [
    "bar_info=pd.merge(pov_graph_info,labor_var_info,on='year')"
   ]
  },
  {
   "cell_type": "code",
   "execution_count": null,
   "metadata": {},
   "outputs": [],
   "source": []
  },
  {
   "cell_type": "code",
   "execution_count": 132,
   "metadata": {},
   "outputs": [
    {
     "data": {
      "image/png": "[encoded data removed]",
      "text/plain": [
       "<Figure size 432x288 with 1 Axes>"
      ]
     },
     "metadata": {
      "needs_background": "light"
     },
     "output_type": "display_data"
    }
   ],
   "source": [
    "#poverty and labor variable yearly comparision\n",
    "ax=bar_info.plot.bar(rot=0)"
   ]
  },
  {
   "cell_type": "code",
   "execution_count": 133,
   "metadata": {},
   "outputs": [],
   "source": [
    "#povery and violent crime rates yearly comparison\n",
    "pov_crime=pd.merge(pov_graph_info,by_year_df,on='year')"
   ]
  },
  {
   "cell_type": "code",
   "execution_count": 134,
   "metadata": {
    "scrolled": true
   },
   "outputs": [
    {
     "data": {
      "image/png": "[encoded data removed]",
      "text/plain": [
       "<Figure size 432x288 with 1 Axes>"
      ]
     },
     "metadata": {
      "needs_background": "light"
     },
     "output_type": "display_data"
    }
   ],
   "source": [
    "pov_crime_bar=pov_crime.plot.bar(rot=0)"
   ]
  },
  {
   "cell_type": "code",
   "execution_count": 135,
   "metadata": {},
   "outputs": [],
   "source": [
    "lab_crime=pd.merge(labor_var_info,by_year_df,on='year')"
   ]
  },
  {
   "cell_type": "code",
   "execution_count": 136,
   "metadata": {},
   "outputs": [
    {
     "data": {
      "image/png": "[encoded data removed]",
      "text/plain": [
       "<Figure size 432x288 with 1 Axes>"
      ]
     },
     "metadata": {
      "needs_background": "light"
     },
     "output_type": "display_data"
    }
   ],
   "source": [
    "lab_crime_bar=lab_crime.plot.bar(rot=0)"
   ]
  },
  {
   "cell_type": "code",
   "execution_count": 137,
   "metadata": {},
   "outputs": [
    {
     "data": {
      "text/plain": [
       "Text(0.5, 1.0, 'Total Crime vs. Poverty')"
      ]
     },
     "execution_count": 137,
     "metadata": {},
     "output_type": "execute_result"
    },
    {
     "data": {
      "image/png": "[encoded data removed]",
      "text/plain": [
       "<Figure size 432x288 with 2 Axes>"
      ]
     },
     "metadata": {
      "needs_background": "light"
     },
     "output_type": "display_data"
    }
   ],
   "source": [
    "#creating scatter plot for a different visual option\n",
    "fig, ax1 = plt.subplots()\n",
    "yearlyCrime = crime_inc.groupby(['year']).sum()['Total Crime']\n",
    "ax1.plot(yearlyCrime, color='r')\n",
    "ax1.set_ylabel('Total Crime')\n",
    "ax2 = ax1.twinx()\n",
    "yearly_pov = crime_inc.groupby(['year']).sum()['Poverty Variable']\n",
    "ax2.plot(yearly_pov, color='b')\n",
    "ax2.set_ylabel('Poverty Variable')\n",
    "ax1.set_xlabel('year')\n",
    "plt.title('Total Crime vs. Poverty')"
   ]
  },
  {
   "cell_type": "code",
   "execution_count": 138,
   "metadata": {},
   "outputs": [
    {
     "data": {
      "text/plain": [
       "Text(0.5, 1.0, 'Total Crime vs. Labor')"
      ]
     },
     "execution_count": 138,
     "metadata": {},
     "output_type": "execute_result"
    },
    {
     "data": {
      "image/png": "[encoded data removed]",
      "text/plain": [
       "<Figure size 432x288 with 2 Axes>"
      ]
     },
     "metadata": {
      "needs_background": "light"
     },
     "output_type": "display_data"
    }
   ],
   "source": [
    "#creating scatter plot for a different visual option\n",
    "fig, ax1 = plt.subplots()\n",
    "yearlyCrime = crime_inc.groupby(['year']).sum()['Total Crime']\n",
    "ax1.plot(yearlyCrime, color='r')\n",
    "ax1.set_ylabel('Total Crime')\n",
    "ax2 = ax1.twinx()\n",
    "yearly_lab = crime_inc.groupby(['year']).sum()['Labor Variable']\n",
    "ax2.plot(yearly_lab, color='b')\n",
    "ax2.set_ylabel('Labor Variable')\n",
    "ax1.set_xlabel('year')\n",
    "plt.title('Total Crime vs. Labor')"
   ]
  },
  {
   "cell_type": "code",
   "execution_count": 156,
   "metadata": {},
   "outputs": [],
   "source": [
    "race_df=pd.read_csv('Resources/race_data.csv')"
   ]
  },
  {
   "cell_type": "code",
   "execution_count": 157,
   "metadata": {},
   "outputs": [],
   "source": [
    "# rename columns\n",
    "#rename columns\n",
    "race_df = race_df.rename(columns = {'Year' :'year',\n",
    "                                      'Total Population' : 'Total Population',\n",
    "                                      'White(pop)' : 'White' ,\n",
    "                                      'Black(pop)' : 'Black',\n",
    "                                      'Indigenous(pop)' : 'Indigenous',\n",
    "                                      'Asian(pop)' : 'Asian',\n",
    "                                     'Pacific Islander(pop)':'Pacific Islander'})\n",
    "                                     #'Mixed Race(pop)':'Mixed Race',\n",
    "                                     #'Hispanic (pop)':'Hispanic',\n",
    "                                     # 'White(%)':'White(%)',\n",
    "                                     #'Black(%)':'Black (%)',\n",
    "                                     #'Indigenous(%)':'Indigenous(%)',\n",
    "                                     #'Asian(%)':'Asian(%)','Pacific Islander(%)': 'Pacific Islander(%)','Mixed Race(%)':'Mixed Race(%)'\n",
    "                                     #'Hispanic(%)':'Hispanic(%)'})"
   ]
  },
  {
   "cell_type": "code",
   "execution_count": 159,
   "metadata": {},
   "outputs": [],
   "source": [
    "lab_pov_race=pd.merge(bar_info,race_df, on='year')"
   ]
  },
  {
   "cell_type": "code",
   "execution_count": 174,
   "metadata": {},
   "outputs": [
    {
     "data": {
      "text/html": [
       "<div>\n",
       "<style scoped>\n",
       "    .dataframe tbody tr th:only-of-type {\n",
       "        vertical-align: middle;\n",
       "    }\n",
       "\n",
       "    .dataframe tbody tr th {\n",
       "        vertical-align: top;\n",
       "    }\n",
       "\n",
       "    .dataframe thead th {\n",
       "        text-align: right;\n",
       "    }\n",
       "</style>\n",
       "<table border=\"1\" class=\"dataframe\">\n",
       "  <thead>\n",
       "    <tr style=\"text-align: right;\">\n",
       "      <th></th>\n",
       "      <th>year</th>\n",
       "      <th>Poverty Variable</th>\n",
       "      <th>Labor Variable</th>\n",
       "      <th>State</th>\n",
       "      <th>Total Population</th>\n",
       "      <th>White (pop)</th>\n",
       "      <th>Black (pop)</th>\n",
       "      <th>Indigenous (pop)</th>\n",
       "      <th>Asian (pop)</th>\n",
       "      <th>Pacfic Islander (pop)</th>\n",
       "      <th>Mixed Race (pop)</th>\n",
       "      <th>Hispanic (pop)</th>\n",
       "      <th>White (%)</th>\n",
       "      <th>Black (%)</th>\n",
       "      <th>Indigenous (%)</th>\n",
       "      <th>Asian (%)</th>\n",
       "      <th>Pacfic Islander (%)</th>\n",
       "      <th>Mixed Race (%)</th>\n",
       "      <th>Hispanic (%)</th>\n",
       "    </tr>\n",
       "  </thead>\n",
       "  <tbody>\n",
       "    <tr>\n",
       "      <th>0</th>\n",
       "      <td>2009</td>\n",
       "      <td>39435098</td>\n",
       "      <td>300873100</td>\n",
       "      <td>Alaska</td>\n",
       "      <td>683142</td>\n",
       "      <td>467650</td>\n",
       "      <td>25161</td>\n",
       "      <td>91939</td>\n",
       "      <td>31878</td>\n",
       "      <td>4269</td>\n",
       "      <td>50632</td>\n",
       "      <td>39661</td>\n",
       "      <td>68.5</td>\n",
       "      <td>3.7</td>\n",
       "      <td>13.5</td>\n",
       "      <td>4.7</td>\n",
       "      <td>0.6</td>\n",
       "      <td>7.4</td>\n",
       "      <td>5.8</td>\n",
       "    </tr>\n",
       "    <tr>\n",
       "      <th>1</th>\n",
       "      <td>2009</td>\n",
       "      <td>39435098</td>\n",
       "      <td>300873100</td>\n",
       "      <td>Alabama</td>\n",
       "      <td>4633360</td>\n",
       "      <td>3256941</td>\n",
       "      <td>1209938</td>\n",
       "      <td>22969</td>\n",
       "      <td>46655</td>\n",
       "      <td>2025</td>\n",
       "      <td>56490</td>\n",
       "      <td>130220</td>\n",
       "      <td>70.3</td>\n",
       "      <td>26.1</td>\n",
       "      <td>0.5</td>\n",
       "      <td>1.0</td>\n",
       "      <td>0.0</td>\n",
       "      <td>1.2</td>\n",
       "      <td>2.8</td>\n",
       "    </tr>\n",
       "    <tr>\n",
       "      <th>2</th>\n",
       "      <td>2009</td>\n",
       "      <td>39435098</td>\n",
       "      <td>300873100</td>\n",
       "      <td>Arkansas</td>\n",
       "      <td>2838143</td>\n",
       "      <td>2228798</td>\n",
       "      <td>439355</td>\n",
       "      <td>19233</td>\n",
       "      <td>31120</td>\n",
       "      <td>2505</td>\n",
       "      <td>49997</td>\n",
       "      <td>153630</td>\n",
       "      <td>78.5</td>\n",
       "      <td>15.5</td>\n",
       "      <td>0.7</td>\n",
       "      <td>1.1</td>\n",
       "      <td>0.1</td>\n",
       "      <td>1.8</td>\n",
       "      <td>5.4</td>\n",
       "    </tr>\n",
       "    <tr>\n",
       "      <th>3</th>\n",
       "      <td>2009</td>\n",
       "      <td>39435098</td>\n",
       "      <td>300873100</td>\n",
       "      <td>Arizona</td>\n",
       "      <td>6324865</td>\n",
       "      <td>4906936</td>\n",
       "      <td>227282</td>\n",
       "      <td>284265</td>\n",
       "      <td>153301</td>\n",
       "      <td>11045</td>\n",
       "      <td>164255</td>\n",
       "      <td>1881878</td>\n",
       "      <td>77.6</td>\n",
       "      <td>3.6</td>\n",
       "      <td>4.5</td>\n",
       "      <td>2.4</td>\n",
       "      <td>0.2</td>\n",
       "      <td>2.6</td>\n",
       "      <td>29.8</td>\n",
       "    </tr>\n",
       "    <tr>\n",
       "      <th>4</th>\n",
       "      <td>2009</td>\n",
       "      <td>39435098</td>\n",
       "      <td>300873100</td>\n",
       "      <td>California</td>\n",
       "      <td>36308527</td>\n",
       "      <td>22258042</td>\n",
       "      <td>2249404</td>\n",
       "      <td>283031</td>\n",
       "      <td>4473292</td>\n",
       "      <td>132535</td>\n",
       "      <td>1272989</td>\n",
       "      <td>13102161</td>\n",
       "      <td>61.3</td>\n",
       "      <td>6.2</td>\n",
       "      <td>0.8</td>\n",
       "      <td>12.3</td>\n",
       "      <td>0.4</td>\n",
       "      <td>3.5</td>\n",
       "      <td>36.1</td>\n",
       "    </tr>\n",
       "  </tbody>\n",
       "</table>\n",
       "</div>"
      ],
      "text/plain": [
       "   year  Poverty Variable  Labor Variable       State  Total Population  \\\n",
       "0  2009          39435098       300873100      Alaska            683142   \n",
       "1  2009          39435098       300873100     Alabama           4633360   \n",
       "2  2009          39435098       300873100    Arkansas           2838143   \n",
       "3  2009          39435098       300873100     Arizona           6324865   \n",
       "4  2009          39435098       300873100  California          36308527   \n",
       "\n",
       "   White (pop)  Black (pop)  Indigenous (pop)  Asian (pop)  \\\n",
       "0       467650        25161             91939        31878   \n",
       "1      3256941      1209938             22969        46655   \n",
       "2      2228798       439355             19233        31120   \n",
       "3      4906936       227282            284265       153301   \n",
       "4     22258042      2249404            283031      4473292   \n",
       "\n",
       "   Pacfic Islander (pop)  Mixed Race (pop)  Hispanic (pop)  White (%)  \\\n",
       "0                   4269             50632           39661       68.5   \n",
       "1                   2025             56490          130220       70.3   \n",
       "2                   2505             49997          153630       78.5   \n",
       "3                  11045            164255         1881878       77.6   \n",
       "4                 132535           1272989        13102161       61.3   \n",
       "\n",
       "   Black (%)  Indigenous (%)  Asian (%)  Pacfic Islander (%)  Mixed Race (%)  \\\n",
       "0        3.7            13.5        4.7                  0.6             7.4   \n",
       "1       26.1             0.5        1.0                  0.0             1.2   \n",
       "2       15.5             0.7        1.1                  0.1             1.8   \n",
       "3        3.6             4.5        2.4                  0.2             2.6   \n",
       "4        6.2             0.8       12.3                  0.4             3.5   \n",
       "\n",
       "   Hispanic (%)  \n",
       "0           5.8  \n",
       "1           2.8  \n",
       "2           5.4  \n",
       "3          29.8  \n",
       "4          36.1  "
      ]
     },
     "execution_count": 174,
     "metadata": {},
     "output_type": "execute_result"
    }
   ],
   "source": [
    "lab_pov_race.head()"
   ]
  },
  {
   "cell_type": "code",
   "execution_count": 170,
   "metadata": {},
   "outputs": [
    {
     "data": {
      "text/plain": [
       "<matplotlib.axes._subplots.AxesSubplot at 0x1a1ba6bf28>"
      ]
     },
     "execution_count": 170,
     "metadata": {},
     "output_type": "execute_result"
    },
    {
     "data": {
      "image/png": "[encoded data removed]",
      "text/plain": [
       "<Figure size 1440x720 with 1 Axes>"
      ]
     },
     "metadata": {
      "needs_background": "light"
     },
     "output_type": "display_data"
    }
   ],
   "source": [
    "merge_file.boxplot(\"Poverty Variable\",by=\"year\",figsize=(20,10))"
   ]
  },
  {
   "cell_type": "code",
   "execution_count": 171,
   "metadata": {},
   "outputs": [],
   "source": [
    "# Extract individual groups\n",
    "group1 = merge_file[merge_file[\"year\"] == 2009][\"Poverty Variable\"]\n",
    "group2 = merge_file[merge_file[\"year\"] == 2010][\"Poverty Variable\"]\n",
    "group3 = merge_file[merge_file[\"year\"] == 2011][\"Poverty Variable\"]\n",
    "group4 = merge_file[merge_file[\"year\"] == 2012][\"Poverty Variable\"]\n",
    "group5=merge_file[merge_file[\"year\"] == 2013][\"Poverty Variable\"]\n",
    "group6=merge_file[merge_file[\"year\"] == 2014][\"Poverty Variable\"]\n",
    "group7=merge_file[merge_file[\"year\"] == 2015][\"Poverty Variable\"]\n",
    "group8=merge_file[merge_file[\"year\"] == 2016][\"Poverty Variable\"]"
   ]
  },
  {
   "cell_type": "code",
   "execution_count": 172,
   "metadata": {},
   "outputs": [],
   "source": [
    "import scipy.stats as stats"
   ]
  },
  {
   "cell_type": "code",
   "execution_count": 173,
   "metadata": {},
   "outputs": [
    {
     "data": {
      "text/plain": [
       "F_onewayResult(statistic=0.18345145641133642, pvalue=0.9886991493001138)"
      ]
     },
     "execution_count": 173,
     "metadata": {},
     "output_type": "execute_result"
    }
   ],
   "source": [
    "stats.f_oneway(group1, group2, group3, group4, group5,group6,group7,group8)"
   ]
  },
  {
   "cell_type": "code",
   "execution_count": null,
   "metadata": {},
   "outputs": [],
   "source": [
    "# In this we are exploring the differences of poverty levels over the span of years in each state\n",
    "#Because the years of poverty are dependent upon each other it makes sense for the pvalue found during ANOVA to be so high\n",
    "#therefore, making it statistically insignificant "
   ]
  }
 ],
 "metadata": {
  "kernelspec": {
   "display_name": "Python 3",
   "language": "python",
   "name": "python3"
  },
  "language_info": {
   "codemirror_mode": {
    "name": "ipython",
    "version": 3
   },
   "file_extension": ".py",
   "mimetype": "text/x-python",
   "name": "python",
   "nbconvert_exporter": "python",
   "pygments_lexer": "ipython3",
   "version": "3.7.3"
  }
 },
 "nbformat": 4,
 "nbformat_minor": 2
}
