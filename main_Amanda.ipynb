{
 "cells": [
  {
   "cell_type": "code",
   "execution_count": 1,
   "metadata": {},
   "outputs": [],
   "source": [
    "#Importing Data\n",
    "%matplotlib inline\n",
    "import matplotlib.pyplot as plt\n",
    "import pandas as pd\n",
    "import numpy as np\n",
    "import gmaps\n",
    "import os\n",
    "from scipy.stats import linregress\n",
    "import scipy.stats as stats"
   ]
  },
  {
   "cell_type": "code",
   "execution_count": 2,
   "metadata": {},
   "outputs": [
    {
     "data": {
      "text/html": [
       "<div>\n",
       "<style scoped>\n",
       "    .dataframe tbody tr th:only-of-type {\n",
       "        vertical-align: middle;\n",
       "    }\n",
       "\n",
       "    .dataframe tbody tr th {\n",
       "        vertical-align: top;\n",
       "    }\n",
       "\n",
       "    .dataframe thead th {\n",
       "        text-align: right;\n",
       "    }\n",
       "</style>\n",
       "<table border=\"1\" class=\"dataframe\">\n",
       "  <thead>\n",
       "    <tr style=\"text-align: right;\">\n",
       "      <th></th>\n",
       "      <th>State</th>\n",
       "      <th>Year</th>\n",
       "      <th>Includes Jails</th>\n",
       "      <th>Prisoner Count</th>\n",
       "      <th>Crime Reporting Change</th>\n",
       "      <th>Crime Estimated</th>\n",
       "      <th>Total Crime</th>\n",
       "    </tr>\n",
       "  </thead>\n",
       "  <tbody>\n",
       "    <tr>\n",
       "      <td>0</td>\n",
       "      <td>Federal</td>\n",
       "      <td>2001</td>\n",
       "      <td>False</td>\n",
       "      <td>149852</td>\n",
       "      <td>NaN</td>\n",
       "      <td>NaN</td>\n",
       "      <td>NaN</td>\n",
       "    </tr>\n",
       "    <tr>\n",
       "      <td>1</td>\n",
       "      <td>Alabama</td>\n",
       "      <td>2001</td>\n",
       "      <td>False</td>\n",
       "      <td>24741</td>\n",
       "      <td>False</td>\n",
       "      <td>False</td>\n",
       "      <td>192835.0</td>\n",
       "    </tr>\n",
       "    <tr>\n",
       "      <td>2</td>\n",
       "      <td>Alaska</td>\n",
       "      <td>2001</td>\n",
       "      <td>True</td>\n",
       "      <td>4570</td>\n",
       "      <td>False</td>\n",
       "      <td>False</td>\n",
       "      <td>26895.0</td>\n",
       "    </tr>\n",
       "    <tr>\n",
       "      <td>3</td>\n",
       "      <td>Arizona</td>\n",
       "      <td>2001</td>\n",
       "      <td>False</td>\n",
       "      <td>27710</td>\n",
       "      <td>False</td>\n",
       "      <td>False</td>\n",
       "      <td>322549.0</td>\n",
       "    </tr>\n",
       "    <tr>\n",
       "      <td>4</td>\n",
       "      <td>Arkansas</td>\n",
       "      <td>2001</td>\n",
       "      <td>False</td>\n",
       "      <td>11489</td>\n",
       "      <td>False</td>\n",
       "      <td>False</td>\n",
       "      <td>111296.0</td>\n",
       "    </tr>\n",
       "  </tbody>\n",
       "</table>\n",
       "</div>"
      ],
      "text/plain": [
       "      State  Year  Includes Jails  Prisoner Count Crime Reporting Change  \\\n",
       "0   Federal  2001           False          149852                    NaN   \n",
       "1   Alabama  2001           False           24741                  False   \n",
       "2    Alaska  2001            True            4570                  False   \n",
       "3   Arizona  2001           False           27710                  False   \n",
       "4  Arkansas  2001           False           11489                  False   \n",
       "\n",
       "  Crime Estimated  Total Crime  \n",
       "0             NaN          NaN  \n",
       "1           False     192835.0  \n",
       "2           False      26895.0  \n",
       "3           False     322549.0  \n",
       "4           False     111296.0  "
      ]
     },
     "execution_count": 2,
     "metadata": {},
     "output_type": "execute_result"
    }
   ],
   "source": [
    "#Import crime data\n",
    "crime_file = pd.read_csv('Resources/crime_and_incarceration_by_state.csv')\n",
    "crime_df = pd.DataFrame(crime_file)\n",
    "\n",
    "#crime_df['jurisdiction'] = crime_df['jurisdiction'].str.title()\n",
    "\n",
    "#calculate 'total crimes' column\n",
    "crime_df['Total Crime'] = crime_df['violent_crime_total'] + crime_df['property_crime_total']\n",
    "\n",
    "#Reorganize columns and remove unnecessary columns\n",
    "crime_df = crime_df[['jurisdiction','year','includes_jails','prisoner_count','crime_reporting_change','crimes_estimated','Total Crime']]\n",
    "\n",
    "#rename columns\n",
    "crime_df = crime_df.rename(columns = {'jurisdiction' : 'State',\n",
    "                                      'year' : 'Year',\n",
    "                                      'includes_jails' : 'Includes Jails' ,\n",
    "                                      'prisoner_count' : 'Prisoner Count',\n",
    "                                      'crime_reporting_change' : 'Crime Reporting Change',\n",
    "                                      'crimes_estimated' : 'Crime Estimated'})\n",
    "#proper state\n",
    "crime_df['State'] = crime_df['State'].str.title()\n",
    "crime_df.head()"
   ]
  },
  {
   "cell_type": "code",
   "execution_count": 3,
   "metadata": {},
   "outputs": [],
   "source": [
    "#Import education data\n",
    "edu_file = pd.read_csv('Resources/edu_data.csv')\n",
    "edu_df = pd.DataFrame(edu_file)\n"
   ]
  },
  {
   "cell_type": "code",
   "execution_count": 4,
   "metadata": {},
   "outputs": [
    {
     "data": {
      "text/html": [
       "<div>\n",
       "<style scoped>\n",
       "    .dataframe tbody tr th:only-of-type {\n",
       "        vertical-align: middle;\n",
       "    }\n",
       "\n",
       "    .dataframe tbody tr th {\n",
       "        vertical-align: top;\n",
       "    }\n",
       "\n",
       "    .dataframe thead th {\n",
       "        text-align: right;\n",
       "    }\n",
       "</style>\n",
       "<table border=\"1\" class=\"dataframe\">\n",
       "  <thead>\n",
       "    <tr style=\"text-align: right;\">\n",
       "      <th></th>\n",
       "      <th>State</th>\n",
       "      <th>Year</th>\n",
       "      <th>Male</th>\n",
       "      <th>Female</th>\n",
       "      <th>Total Pop</th>\n",
       "    </tr>\n",
       "  </thead>\n",
       "  <tbody>\n",
       "    <tr>\n",
       "      <td>0</td>\n",
       "      <td>Alaska</td>\n",
       "      <td>2009</td>\n",
       "      <td>1196</td>\n",
       "      <td>1341</td>\n",
       "      <td>683142</td>\n",
       "    </tr>\n",
       "    <tr>\n",
       "      <td>1</td>\n",
       "      <td>Alabama</td>\n",
       "      <td>2009</td>\n",
       "      <td>2879</td>\n",
       "      <td>3306</td>\n",
       "      <td>4633360</td>\n",
       "    </tr>\n",
       "    <tr>\n",
       "      <td>2</td>\n",
       "      <td>Arkansas</td>\n",
       "      <td>2009</td>\n",
       "      <td>2080</td>\n",
       "      <td>2213</td>\n",
       "      <td>2838143</td>\n",
       "    </tr>\n",
       "    <tr>\n",
       "      <td>3</td>\n",
       "      <td>Arizona</td>\n",
       "      <td>2009</td>\n",
       "      <td>4144</td>\n",
       "      <td>3814</td>\n",
       "      <td>6324865</td>\n",
       "    </tr>\n",
       "    <tr>\n",
       "      <td>4</td>\n",
       "      <td>California</td>\n",
       "      <td>2009</td>\n",
       "      <td>9341</td>\n",
       "      <td>9954</td>\n",
       "      <td>36308527</td>\n",
       "    </tr>\n",
       "  </tbody>\n",
       "</table>\n",
       "</div>"
      ],
      "text/plain": [
       "        State  Year  Male  Female  Total Pop\n",
       "0      Alaska  2009  1196    1341     683142\n",
       "1     Alabama  2009  2879    3306    4633360\n",
       "2    Arkansas  2009  2080    2213    2838143\n",
       "3     Arizona  2009  4144    3814    6324865\n",
       "4  California  2009  9341    9954   36308527"
      ]
     },
     "execution_count": 4,
     "metadata": {},
     "output_type": "execute_result"
    }
   ],
   "source": [
    "#Import eduome/Poverty data (census)\n",
    "edu_file = pd.read_csv('Resources/edu_data.csv')\n",
    "edu_df = pd.DataFrame(edu_file)\n",
    "edu_df.head()\n"
   ]
  },
  {
   "cell_type": "code",
   "execution_count": 5,
   "metadata": {
    "scrolled": true
   },
   "outputs": [
    {
     "data": {
      "text/html": [
       "<div>\n",
       "<style scoped>\n",
       "    .dataframe tbody tr th:only-of-type {\n",
       "        vertical-align: middle;\n",
       "    }\n",
       "\n",
       "    .dataframe tbody tr th {\n",
       "        vertical-align: top;\n",
       "    }\n",
       "\n",
       "    .dataframe thead th {\n",
       "        text-align: right;\n",
       "    }\n",
       "</style>\n",
       "<table border=\"1\" class=\"dataframe\">\n",
       "  <thead>\n",
       "    <tr style=\"text-align: right;\">\n",
       "      <th></th>\n",
       "      <th>State</th>\n",
       "      <th>Year</th>\n",
       "      <th>Includes Jails</th>\n",
       "      <th>Prisoner Count</th>\n",
       "      <th>Crime Reporting Change</th>\n",
       "      <th>Crime Estimated</th>\n",
       "      <th>Total Crime</th>\n",
       "      <th>Male</th>\n",
       "      <th>Female</th>\n",
       "      <th>Total Pop</th>\n",
       "    </tr>\n",
       "  </thead>\n",
       "  <tbody>\n",
       "    <tr>\n",
       "      <td>0</td>\n",
       "      <td>Alabama</td>\n",
       "      <td>2009</td>\n",
       "      <td>False</td>\n",
       "      <td>27241</td>\n",
       "      <td>False</td>\n",
       "      <td>False</td>\n",
       "      <td>199201.0</td>\n",
       "      <td>2879</td>\n",
       "      <td>3306</td>\n",
       "      <td>4633360</td>\n",
       "    </tr>\n",
       "    <tr>\n",
       "      <td>1</td>\n",
       "      <td>Alaska</td>\n",
       "      <td>2009</td>\n",
       "      <td>True</td>\n",
       "      <td>5472</td>\n",
       "      <td>False</td>\n",
       "      <td>False</td>\n",
       "      <td>24962.0</td>\n",
       "      <td>1196</td>\n",
       "      <td>1341</td>\n",
       "      <td>683142</td>\n",
       "    </tr>\n",
       "    <tr>\n",
       "      <td>2</td>\n",
       "      <td>Arizona</td>\n",
       "      <td>2009</td>\n",
       "      <td>False</td>\n",
       "      <td>40544</td>\n",
       "      <td>False</td>\n",
       "      <td>False</td>\n",
       "      <td>264849.0</td>\n",
       "      <td>4144</td>\n",
       "      <td>3814</td>\n",
       "      <td>6324865</td>\n",
       "    </tr>\n",
       "    <tr>\n",
       "      <td>3</td>\n",
       "      <td>Arkansas</td>\n",
       "      <td>2009</td>\n",
       "      <td>False</td>\n",
       "      <td>13338</td>\n",
       "      <td>False</td>\n",
       "      <td>False</td>\n",
       "      <td>123983.0</td>\n",
       "      <td>2080</td>\n",
       "      <td>2213</td>\n",
       "      <td>2838143</td>\n",
       "    </tr>\n",
       "    <tr>\n",
       "      <td>4</td>\n",
       "      <td>California</td>\n",
       "      <td>2009</td>\n",
       "      <td>False</td>\n",
       "      <td>168830</td>\n",
       "      <td>False</td>\n",
       "      <td>False</td>\n",
       "      <td>1184367.0</td>\n",
       "      <td>9341</td>\n",
       "      <td>9954</td>\n",
       "      <td>36308527</td>\n",
       "    </tr>\n",
       "  </tbody>\n",
       "</table>\n",
       "</div>"
      ],
      "text/plain": [
       "        State  Year  Includes Jails  Prisoner Count Crime Reporting Change  \\\n",
       "0     Alabama  2009           False           27241                  False   \n",
       "1      Alaska  2009            True            5472                  False   \n",
       "2     Arizona  2009           False           40544                  False   \n",
       "3    Arkansas  2009           False           13338                  False   \n",
       "4  California  2009           False          168830                  False   \n",
       "\n",
       "  Crime Estimated  Total Crime  Male  Female  Total Pop  \n",
       "0           False     199201.0  2879    3306    4633360  \n",
       "1           False      24962.0  1196    1341     683142  \n",
       "2           False     264849.0  4144    3814    6324865  \n",
       "3           False     123983.0  2080    2213    2838143  \n",
       "4           False    1184367.0  9341    9954   36308527  "
      ]
     },
     "execution_count": 5,
     "metadata": {},
     "output_type": "execute_result"
    }
   ],
   "source": [
    "#Merge dataframes on state and year...\n",
    "crime_inc = pd.merge(crime_df,edu_df, on=['State','Year'])\n",
    "crime_inc.head()"
   ]
  },
  {
   "cell_type": "markdown",
   "metadata": {},
   "source": [
    "# Data Visuals\n",
    "### Total Crime vs. Educated Male"
   ]
  },
  {
   "cell_type": "code",
   "execution_count": 6,
   "metadata": {},
   "outputs": [
    {
     "data": {
      "image/png": "[encoded data removed]",
      "text/plain": [
       "<Figure size 432x288 with 2 Axes>"
      ]
     },
     "metadata": {
      "needs_background": "light"
     },
     "output_type": "display_data"
    }
   ],
   "source": [
    "fig, ax1 = plt.subplots()\n",
    "yearlyCrime = crime_inc.groupby(['Year']).sum()['Total Crime']\n",
    "ax1.plot(yearlyCrime, color='r')\n",
    "ax1.set_ylabel('Total Crime')\n",
    "\n",
    "ax2 = ax1.twinx()\n",
    "yearly_prisoner = crime_inc.groupby(['Year']).sum()['Male']\n",
    "ax2.plot(yearly_prisoner, color='b')\n",
    "ax2.set_ylabel('Male')\n",
    "\n",
    "ax1.set_xlabel('Year')\n",
    "plt.title('Total Crime vs. Educated Male (Nationwide)')\n",
    "plt.savefig(\"Output/Total_Crime_vs_Male_Nationwide.png\")"
   ]
  },
  {
   "cell_type": "markdown",
   "metadata": {},
   "source": [
    "### Total Crime vs. Educated Female"
   ]
  },
  {
   "cell_type": "code",
   "execution_count": 7,
   "metadata": {},
   "outputs": [
    {
     "data": {
      "image/png": "[encoded data removed]",
      "text/plain": [
       "<Figure size 432x288 with 2 Axes>"
      ]
     },
     "metadata": {
      "needs_background": "light"
     },
     "output_type": "display_data"
    }
   ],
   "source": [
    "fig, ax1 = plt.subplots()\n",
    "yearlyCrime = crime_inc.groupby(['Year']).sum()['Total Crime']\n",
    "ax1.plot(yearlyCrime, color='r')\n",
    "ax1.set_ylabel('Total Crime')\n",
    "\n",
    "ax2 = ax1.twinx()\n",
    "yearly_prisoner = crime_inc.groupby(['Year']).sum()['Female']\n",
    "ax2.plot(yearly_prisoner, color='b')\n",
    "ax2.set_ylabel('Female')\n",
    "\n",
    "ax1.set_xlabel('Year')\n",
    "plt.title('Total Crime vs. Educated Female (Nationwide)')\n",
    "plt.savefig(\"Output/Total_Crime_vs_Female_Nationwide.png\")"
   ]
  },
  {
   "cell_type": "markdown",
   "metadata": {},
   "source": [
    "### Male vs. Female Linear Chart to insure data is trending as expected"
   ]
  },
  {
   "cell_type": "code",
   "execution_count": 8,
   "metadata": {},
   "outputs": [
    {
     "data": {
      "image/png": "[encoded data removed]",
      "text/plain": [
       "<Figure size 432x288 with 2 Axes>"
      ]
     },
     "metadata": {
      "needs_background": "light"
     },
     "output_type": "display_data"
    }
   ],
   "source": [
    "fig, ax1 = plt.subplots()\n",
    "yearlyCrime = crime_inc.groupby(['Year']).sum()['Male']\n",
    "ax1.plot(yearlyCrime, color='r')\n",
    "ax1.set_ylabel('Male')\n",
    "\n",
    "ax2 = ax1.twinx()\n",
    "yearly_prisoner = crime_inc.groupby(['Year']).sum()['Female']\n",
    "ax2.plot(yearly_prisoner, color='b')\n",
    "ax2.set_ylabel('Female')\n",
    "\n",
    "ax1.set_xlabel('Year')\n",
    "plt.title('Male vs. Female (Nationwide)')\n",
    "# plt.bar(x_axis, users, color='r', alpha=0.5, align=\"center\")\n",
    "plt.savefig(\"Output/Male_vs_Female_Nationwide.png\")"
   ]
  },
  {
   "cell_type": "code",
   "execution_count": 9,
   "metadata": {},
   "outputs": [],
   "source": [
    "def gendata(loc=0):\n",
    "    population = stats.norm.rvs(size=1000, random_state=42)\n",
    "    sample = stats.norm.rvs(loc=loc, size=200, random_state=42)\n",
    "\n",
    "    # Scatter Plot of Data\n",
    "    plt.subplot(2, 1, 1)\n",
    "    plt.scatter(range(len(population)), population, label=\"population\")\n",
    "    plt.scatter(range(len(sample)), sample, label=\"sample\")\n",
    "    plt.legend()\n",
    "\n",
    "    # Histogram Plot of Data\n",
    "    plt.subplot(2, 1, 2)\n",
    "    plt.hist(population, 20, density=True, alpha=0.7, label=\"population\")\n",
    "    plt.hist(sample, 20, density=True, alpha=0.7, label=\"sample\")\n",
    "    plt.axvline(population.mean(), color='k', linestyle='dashed', linewidth=1)\n",
    "    plt.axvline(sample.mean(), color='k', linestyle='dashed', linewidth=1)\n",
    "    plt.legend()  \n",
    "    \n",
    "    return population, sample"
   ]
  },
  {
   "cell_type": "markdown",
   "metadata": {},
   "source": [
    "# Created T Test for Statistical significance"
   ]
  },
  {
   "cell_type": "markdown",
   "metadata": {},
   "source": [
    "### P-Value did not have any statistical significance\n"
   ]
  },
  {
   "cell_type": "code",
   "execution_count": 10,
   "metadata": {},
   "outputs": [
    {
     "name": "stdout",
     "output_type": "stream",
     "text": [
      "Year\n",
      "2009    300873100\n",
      "2010    303380872\n",
      "2011    306009817\n",
      "2012    308532952\n",
      "2013    310917223\n",
      "2014    313473348\n",
      "2015    315867537\n",
      "2016    317899153\n",
      "Name: Total Pop, dtype: int64\n"
     ]
    },
    {
     "data": {
      "text/plain": [
       "Ttest_1sampResult(statistic=-87602.95335993206, pvalue=6.670278475766262e-33)"
      ]
     },
     "execution_count": 10,
     "metadata": {},
     "output_type": "execute_result"
    }
   ],
   "source": [
    "# T tests to check for\n",
    "# Higher Education Levels for each state lead to less incarceration rates over time\n",
    "educationLevelsForBoth = crime_inc.groupby(['Year']).sum()['Total Pop']\n",
    "sampleFemale = crime_inc.groupby(['Year']).sum()['Female']\n",
    "sampleMale = crime_inc.groupby(['Year']).sum()['Male']\n",
    "sampleTotal = sampleFemale + sampleMale\n",
    "print(educationLevelsForBoth)\n",
    "    \n",
    "stats.ttest_1samp(sampleTotal, educationLevelsForBoth.mean())\n",
    "    \n",
    "    \n",
    "    \n",
    "\n",
    "# Higher Education Levels for females lead to less incarceration rates over time for each state\n",
    "\n",
    "# Higher Educatin Levels for males lead to less incarceration rates over tie for each state"
   ]
  },
  {
   "cell_type": "code",
   "execution_count": null,
   "metadata": {},
   "outputs": [],
   "source": []
  }
 ],
 "metadata": {
  "kernelspec": {
   "display_name": "Python 3",
   "language": "python",
   "name": "python3"
  },
  "language_info": {
   "codemirror_mode": {
    "name": "ipython",
    "version": 3
   },
   "file_extension": ".py",
   "mimetype": "text/x-python",
   "name": "python",
   "nbconvert_exporter": "python",
   "pygments_lexer": "ipython3",
   "version": "3.7.4"
  }
 },
 "nbformat": 4,
 "nbformat_minor": 2
}
