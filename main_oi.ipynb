{
 "cells": [
  {
   "cell_type": "code",
   "execution_count": 2,
   "metadata": {},
   "outputs": [],
   "source": [
    "import warnings\n",
    "warnings.filterwarnings('ignore')"
   ]
  },
  {
   "cell_type": "code",
   "execution_count": 3,
   "metadata": {},
   "outputs": [],
   "source": [
    "#Dependencies\n",
    "%matplotlib inline\n",
    "import matplotlib.pyplot as plt\n",
    "import seaborn as sns\n",
    "import pandas as pd\n",
    "import numpy as np\n",
    "import os\n",
    "import scipy.stats as stats\n",
    "from scipy.stats import linregress"
   ]
  },
  {
   "cell_type": "markdown",
   "metadata": {},
   "source": [
    "# 1. Import & Clean Datasets"
   ]
  },
  {
   "cell_type": "markdown",
   "metadata": {},
   "source": [
    "###  1.1 Crime and Incarceration in the United States (2001-2016)\n",
    "Column Header Descriptions:\n",
    "* **jurisdiction:** State / federal jurisdiction<br/>\n",
    "* **includes_jails:** Indicates if prisoner totals include jails<br/>\n",
    "* **prisoner_count:** Year-end count of prisoners in custody<br/>\n",
    "* **crime_reporting_change:** Indicates whether state changed reporting systems affecting comparisons with previous years<br/>\n",
    "* **crimes_estimated:** Indicates if some crime totals are estimated<br/><br/>\n",
    "\n",
    "Addt'l Considerations\n",
    "* Does not include Puerto Rico or D.C., census does\n",
    "\n",
    "[Source](https://www.kaggle.com/christophercorrea/prisoners-and-crime-in-united-states)<br/>"
   ]
  },
  {
   "cell_type": "code",
   "execution_count": 4,
   "metadata": {},
   "outputs": [
    {
     "data": {
      "text/html": [
       "<div>\n",
       "<style scoped>\n",
       "    .dataframe tbody tr th:only-of-type {\n",
       "        vertical-align: middle;\n",
       "    }\n",
       "\n",
       "    .dataframe tbody tr th {\n",
       "        vertical-align: top;\n",
       "    }\n",
       "\n",
       "    .dataframe thead th {\n",
       "        text-align: right;\n",
       "    }\n",
       "</style>\n",
       "<table border=\"1\" class=\"dataframe\">\n",
       "  <thead>\n",
       "    <tr style=\"text-align: right;\">\n",
       "      <th></th>\n",
       "      <th>State</th>\n",
       "      <th>Year</th>\n",
       "      <th>Prisoner Population</th>\n",
       "      <th>Total Crime</th>\n",
       "    </tr>\n",
       "  </thead>\n",
       "  <tbody>\n",
       "    <tr>\n",
       "      <th>0</th>\n",
       "      <td>Federal</td>\n",
       "      <td>2001</td>\n",
       "      <td>149852</td>\n",
       "      <td>NaN</td>\n",
       "    </tr>\n",
       "    <tr>\n",
       "      <th>1</th>\n",
       "      <td>Alabama</td>\n",
       "      <td>2001</td>\n",
       "      <td>24741</td>\n",
       "      <td>192835.0</td>\n",
       "    </tr>\n",
       "    <tr>\n",
       "      <th>2</th>\n",
       "      <td>Alaska</td>\n",
       "      <td>2001</td>\n",
       "      <td>4570</td>\n",
       "      <td>26895.0</td>\n",
       "    </tr>\n",
       "    <tr>\n",
       "      <th>3</th>\n",
       "      <td>Arizona</td>\n",
       "      <td>2001</td>\n",
       "      <td>27710</td>\n",
       "      <td>322549.0</td>\n",
       "    </tr>\n",
       "    <tr>\n",
       "      <th>4</th>\n",
       "      <td>Arkansas</td>\n",
       "      <td>2001</td>\n",
       "      <td>11489</td>\n",
       "      <td>111296.0</td>\n",
       "    </tr>\n",
       "  </tbody>\n",
       "</table>\n",
       "</div>"
      ],
      "text/plain": [
       "      State  Year  Prisoner Population  Total Crime\n",
       "0   Federal  2001               149852          NaN\n",
       "1   Alabama  2001                24741     192835.0\n",
       "2    Alaska  2001                 4570      26895.0\n",
       "3   Arizona  2001                27710     322549.0\n",
       "4  Arkansas  2001                11489     111296.0"
      ]
     },
     "execution_count": 4,
     "metadata": {},
     "output_type": "execute_result"
    }
   ],
   "source": [
    "#Import crime data\n",
    "crime_file = pd.read_csv('Resources/crime_and_incarceration_by_state.csv')\n",
    "crime_df = pd.DataFrame(crime_file)\n",
    "\n",
    "#calculate 'total crimes' column\n",
    "crime_df['Total Crime'] = crime_df['violent_crime_total'] + crime_df['property_crime_total']\n",
    "\n",
    "#Reorganize columns and remove unnecessary columns\n",
    "crime_df = crime_df[['jurisdiction','year','prisoner_count','Total Crime']]\n",
    "\n",
    "#rename columns\n",
    "crime_df = crime_df.rename(columns = {'jurisdiction' : 'State',\n",
    "                                      'year' : 'Year',\n",
    "                                      'prisoner_count' : 'Prisoner Population',})\n",
    "\n",
    "#Formate the state string to match census' state header\n",
    "crime_df['State'] = crime_df['State'].str.title()\n",
    "\n",
    "crime_df.head()"
   ]
  },
  {
   "cell_type": "markdown",
   "metadata": {},
   "source": [
    "### 1.2 Census Data (2009-2018)\n",
    "[Source](https://www.census.gov/data/developers/data-sets/acs-5year.html)<br/>"
   ]
  },
  {
   "cell_type": "code",
   "execution_count": 5,
   "metadata": {
    "scrolled": true
   },
   "outputs": [
    {
     "data": {
      "text/html": [
       "<div>\n",
       "<style scoped>\n",
       "    .dataframe tbody tr th:only-of-type {\n",
       "        vertical-align: middle;\n",
       "    }\n",
       "\n",
       "    .dataframe tbody tr th {\n",
       "        vertical-align: top;\n",
       "    }\n",
       "\n",
       "    .dataframe thead th {\n",
       "        text-align: right;\n",
       "    }\n",
       "</style>\n",
       "<table border=\"1\" class=\"dataframe\">\n",
       "  <thead>\n",
       "    <tr style=\"text-align: right;\">\n",
       "      <th></th>\n",
       "      <th>State</th>\n",
       "      <th>Year</th>\n",
       "      <th>Total Population</th>\n",
       "    </tr>\n",
       "  </thead>\n",
       "  <tbody>\n",
       "    <tr>\n",
       "      <th>0</th>\n",
       "      <td>Alaska</td>\n",
       "      <td>2009</td>\n",
       "      <td>683142</td>\n",
       "    </tr>\n",
       "    <tr>\n",
       "      <th>1</th>\n",
       "      <td>Alabama</td>\n",
       "      <td>2009</td>\n",
       "      <td>4633360</td>\n",
       "    </tr>\n",
       "    <tr>\n",
       "      <th>2</th>\n",
       "      <td>Arkansas</td>\n",
       "      <td>2009</td>\n",
       "      <td>2838143</td>\n",
       "    </tr>\n",
       "    <tr>\n",
       "      <th>3</th>\n",
       "      <td>Arizona</td>\n",
       "      <td>2009</td>\n",
       "      <td>6324865</td>\n",
       "    </tr>\n",
       "    <tr>\n",
       "      <th>4</th>\n",
       "      <td>California</td>\n",
       "      <td>2009</td>\n",
       "      <td>36308527</td>\n",
       "    </tr>\n",
       "  </tbody>\n",
       "</table>\n",
       "</div>"
      ],
      "text/plain": [
       "        State  Year  Total Population\n",
       "0      Alaska  2009            683142\n",
       "1     Alabama  2009           4633360\n",
       "2    Arkansas  2009           2838143\n",
       "3     Arizona  2009           6324865\n",
       "4  California  2009          36308527"
      ]
     },
     "execution_count": 5,
     "metadata": {},
     "output_type": "execute_result"
    }
   ],
   "source": [
    "#Import US population data (census)\n",
    "pop_file = pd.read_csv('Resources/pop_data.csv')\n",
    "pop_df = pd.DataFrame(pop_file)\n",
    "pop_df.head()"
   ]
  },
  {
   "cell_type": "markdown",
   "metadata": {},
   "source": [
    "### 1.3 Census Regions and Divisions of the United States\n",
    "[Source](https://www2.census.gov/geo/pdfs/maps-data/maps/reference/us_regdiv.pdf)"
   ]
  },
  {
   "cell_type": "code",
   "execution_count": 104,
   "metadata": {},
   "outputs": [
    {
     "data": {
      "text/html": [
       "<div>\n",
       "<style scoped>\n",
       "    .dataframe tbody tr th:only-of-type {\n",
       "        vertical-align: middle;\n",
       "    }\n",
       "\n",
       "    .dataframe tbody tr th {\n",
       "        vertical-align: top;\n",
       "    }\n",
       "\n",
       "    .dataframe thead th {\n",
       "        text-align: right;\n",
       "    }\n",
       "</style>\n",
       "<table border=\"1\" class=\"dataframe\">\n",
       "  <thead>\n",
       "    <tr style=\"text-align: right;\">\n",
       "      <th></th>\n",
       "      <th>State</th>\n",
       "      <th>Region</th>\n",
       "      <th>Sub Region</th>\n",
       "      <th>Size</th>\n",
       "    </tr>\n",
       "  </thead>\n",
       "  <tbody>\n",
       "    <tr>\n",
       "      <th>0</th>\n",
       "      <td>Alabama</td>\n",
       "      <td>South</td>\n",
       "      <td>East South Central</td>\n",
       "      <td>50645</td>\n",
       "    </tr>\n",
       "    <tr>\n",
       "      <th>1</th>\n",
       "      <td>Alaska</td>\n",
       "      <td>West</td>\n",
       "      <td>Pacific</td>\n",
       "      <td>570641</td>\n",
       "    </tr>\n",
       "    <tr>\n",
       "      <th>2</th>\n",
       "      <td>Arizona</td>\n",
       "      <td>West</td>\n",
       "      <td>Mountain</td>\n",
       "      <td>113594</td>\n",
       "    </tr>\n",
       "    <tr>\n",
       "      <th>3</th>\n",
       "      <td>Arkansas</td>\n",
       "      <td>South</td>\n",
       "      <td>West South Central</td>\n",
       "      <td>52035</td>\n",
       "    </tr>\n",
       "    <tr>\n",
       "      <th>4</th>\n",
       "      <td>California</td>\n",
       "      <td>West</td>\n",
       "      <td>Pacific</td>\n",
       "      <td>155779</td>\n",
       "    </tr>\n",
       "  </tbody>\n",
       "</table>\n",
       "</div>"
      ],
      "text/plain": [
       "        State Region          Sub Region    Size\n",
       "0     Alabama  South  East South Central   50645\n",
       "1      Alaska   West             Pacific  570641\n",
       "2     Arizona   West            Mountain  113594\n",
       "3    Arkansas  South  West South Central   52035\n",
       "4  California   West             Pacific  155779"
      ]
     },
     "execution_count": 104,
     "metadata": {},
     "output_type": "execute_result"
    }
   ],
   "source": [
    "regions_file = pd.read_csv('Resources/regions.csv')\n",
    "regions_df = pd.DataFrame(regions_file)\n",
    "regions_df.head()"
   ]
  },
  {
   "cell_type": "markdown",
   "metadata": {},
   "source": [
    "# 2. Create Secondary Datasets"
   ]
  },
  {
   "cell_type": "markdown",
   "metadata": {},
   "source": [
    "### 2.1 Merge Crime and Census Data"
   ]
  },
  {
   "cell_type": "code",
   "execution_count": 7,
   "metadata": {
    "scrolled": true
   },
   "outputs": [
    {
     "data": {
      "text/html": [
       "<div>\n",
       "<style scoped>\n",
       "    .dataframe tbody tr th:only-of-type {\n",
       "        vertical-align: middle;\n",
       "    }\n",
       "\n",
       "    .dataframe tbody tr th {\n",
       "        vertical-align: top;\n",
       "    }\n",
       "\n",
       "    .dataframe thead th {\n",
       "        text-align: right;\n",
       "    }\n",
       "</style>\n",
       "<table border=\"1\" class=\"dataframe\">\n",
       "  <thead>\n",
       "    <tr style=\"text-align: right;\">\n",
       "      <th></th>\n",
       "      <th>State</th>\n",
       "      <th>Year</th>\n",
       "      <th>Prisoner Population</th>\n",
       "      <th>Total Crime</th>\n",
       "      <th>Total Population</th>\n",
       "      <th>Incarceration Rate (%)</th>\n",
       "    </tr>\n",
       "  </thead>\n",
       "  <tbody>\n",
       "    <tr>\n",
       "      <th>0</th>\n",
       "      <td>Alabama</td>\n",
       "      <td>2009</td>\n",
       "      <td>27241</td>\n",
       "      <td>199201.0</td>\n",
       "      <td>4633360</td>\n",
       "      <td>0.588</td>\n",
       "    </tr>\n",
       "    <tr>\n",
       "      <th>1</th>\n",
       "      <td>Alaska</td>\n",
       "      <td>2009</td>\n",
       "      <td>5472</td>\n",
       "      <td>24962.0</td>\n",
       "      <td>683142</td>\n",
       "      <td>0.801</td>\n",
       "    </tr>\n",
       "    <tr>\n",
       "      <th>2</th>\n",
       "      <td>Arizona</td>\n",
       "      <td>2009</td>\n",
       "      <td>40544</td>\n",
       "      <td>264849.0</td>\n",
       "      <td>6324865</td>\n",
       "      <td>0.641</td>\n",
       "    </tr>\n",
       "    <tr>\n",
       "      <th>3</th>\n",
       "      <td>Arkansas</td>\n",
       "      <td>2009</td>\n",
       "      <td>13338</td>\n",
       "      <td>123983.0</td>\n",
       "      <td>2838143</td>\n",
       "      <td>0.470</td>\n",
       "    </tr>\n",
       "    <tr>\n",
       "      <th>4</th>\n",
       "      <td>California</td>\n",
       "      <td>2009</td>\n",
       "      <td>168830</td>\n",
       "      <td>1184367.0</td>\n",
       "      <td>36308527</td>\n",
       "      <td>0.465</td>\n",
       "    </tr>\n",
       "  </tbody>\n",
       "</table>\n",
       "</div>"
      ],
      "text/plain": [
       "        State  Year  Prisoner Population  Total Crime  Total Population  \\\n",
       "0     Alabama  2009                27241     199201.0           4633360   \n",
       "1      Alaska  2009                 5472      24962.0            683142   \n",
       "2     Arizona  2009                40544     264849.0           6324865   \n",
       "3    Arkansas  2009                13338     123983.0           2838143   \n",
       "4  California  2009               168830    1184367.0          36308527   \n",
       "\n",
       "   Incarceration Rate (%)  \n",
       "0                   0.588  \n",
       "1                   0.801  \n",
       "2                   0.641  \n",
       "3                   0.470  \n",
       "4                   0.465  "
      ]
     },
     "execution_count": 7,
     "metadata": {},
     "output_type": "execute_result"
    }
   ],
   "source": [
    "#Merge census and crime dataframes on state and year\n",
    "us_crime = pd.merge(crime_df,pop_df, on=['State','Year'])\n",
    "\n",
    "#calculate incarceration rate column\n",
    "us_crime['Incarceration Rate (%)'] = round(us_crime['Prisoner Population']/us_crime['Total Population'],5)*100\n",
    "us_crime.head()\n",
    "\n",
    "#crime_pop"
   ]
  },
  {
   "cell_type": "markdown",
   "metadata": {},
   "source": [
    "### 2.2 Create Region Dataframe (2016 only)"
   ]
  },
  {
   "cell_type": "code",
   "execution_count": 112,
   "metadata": {},
   "outputs": [
    {
     "data": {
      "text/html": [
       "<div>\n",
       "<style scoped>\n",
       "    .dataframe tbody tr th:only-of-type {\n",
       "        vertical-align: middle;\n",
       "    }\n",
       "\n",
       "    .dataframe tbody tr th {\n",
       "        vertical-align: top;\n",
       "    }\n",
       "\n",
       "    .dataframe thead th {\n",
       "        text-align: right;\n",
       "    }\n",
       "</style>\n",
       "<table border=\"1\" class=\"dataframe\">\n",
       "  <thead>\n",
       "    <tr style=\"text-align: right;\">\n",
       "      <th></th>\n",
       "      <th>Region</th>\n",
       "      <th>Sub Region</th>\n",
       "      <th>State</th>\n",
       "      <th>Size</th>\n",
       "      <th>Prisoner Population</th>\n",
       "      <th>Total Crime</th>\n",
       "      <th>Total Population</th>\n",
       "      <th>Incarceration Rate (%)</th>\n",
       "    </tr>\n",
       "  </thead>\n",
       "  <tbody>\n",
       "    <tr>\n",
       "      <th>24</th>\n",
       "      <td>Midwest</td>\n",
       "      <td>West North Central</td>\n",
       "      <td>Missouri</td>\n",
       "      <td>68742</td>\n",
       "      <td>32427</td>\n",
       "      <td>202381.0</td>\n",
       "      <td>6059651</td>\n",
       "      <td>0.535</td>\n",
       "    </tr>\n",
       "    <tr>\n",
       "      <th>48</th>\n",
       "      <td>Midwest</td>\n",
       "      <td>East North Central</td>\n",
       "      <td>Wisconsin</td>\n",
       "      <td>54158</td>\n",
       "      <td>23163</td>\n",
       "      <td>129627.0</td>\n",
       "      <td>5754798</td>\n",
       "      <td>0.402</td>\n",
       "    </tr>\n",
       "    <tr>\n",
       "      <th>22</th>\n",
       "      <td>Midwest</td>\n",
       "      <td>West North Central</td>\n",
       "      <td>Minnesota</td>\n",
       "      <td>79627</td>\n",
       "      <td>9509</td>\n",
       "      <td>131088.0</td>\n",
       "      <td>5450868</td>\n",
       "      <td>0.174</td>\n",
       "    </tr>\n",
       "    <tr>\n",
       "      <th>21</th>\n",
       "      <td>Midwest</td>\n",
       "      <td>East North Central</td>\n",
       "      <td>Michigan</td>\n",
       "      <td>56539</td>\n",
       "      <td>41122</td>\n",
       "      <td>236031.0</td>\n",
       "      <td>9909600</td>\n",
       "      <td>0.415</td>\n",
       "    </tr>\n",
       "    <tr>\n",
       "      <th>33</th>\n",
       "      <td>Midwest</td>\n",
       "      <td>West North Central</td>\n",
       "      <td>North Dakota</td>\n",
       "      <td>69001</td>\n",
       "      <td>1639</td>\n",
       "      <td>19356.0</td>\n",
       "      <td>736162</td>\n",
       "      <td>0.223</td>\n",
       "    </tr>\n",
       "  </tbody>\n",
       "</table>\n",
       "</div>"
      ],
      "text/plain": [
       "     Region          Sub Region         State   Size  Prisoner Population  \\\n",
       "24  Midwest  West North Central      Missouri  68742                32427   \n",
       "48  Midwest  East North Central     Wisconsin  54158                23163   \n",
       "22  Midwest  West North Central     Minnesota  79627                 9509   \n",
       "21  Midwest  East North Central      Michigan  56539                41122   \n",
       "33  Midwest  West North Central  North Dakota  69001                 1639   \n",
       "\n",
       "    Total Crime  Total Population  Incarceration Rate (%)  \n",
       "24     202381.0           6059651                   0.535  \n",
       "48     129627.0           5754798                   0.402  \n",
       "22     131088.0           5450868                   0.174  \n",
       "21     236031.0           9909600                   0.415  \n",
       "33      19356.0            736162                   0.223  "
      ]
     },
     "execution_count": 112,
     "metadata": {},
     "output_type": "execute_result"
    }
   ],
   "source": [
    "filter_2016 = us_crime[us_crime['Year'] == 2016]\n",
    "\n",
    "region_crime = pd.merge(filter_2016,regions_df, on=['State'])\n",
    "region_crime = region_crime[['Region','Sub Region','State', 'Size','Prisoner Population', 'Total Crime', 'Total Population', 'Incarceration Rate (%)']]\n",
    "region_crime.sort_values(['Region'], inplace=True)\n",
    "\n",
    "\n",
    "region_crime.head()"
   ]
  },
  {
   "cell_type": "markdown",
   "metadata": {},
   "source": [
    "### 2.3 Released Population"
   ]
  },
  {
   "cell_type": "code",
   "execution_count": 9,
   "metadata": {},
   "outputs": [
    {
     "data": {
      "text/html": [
       "<div>\n",
       "<style scoped>\n",
       "    .dataframe tbody tr th:only-of-type {\n",
       "        vertical-align: middle;\n",
       "    }\n",
       "\n",
       "    .dataframe tbody tr th {\n",
       "        vertical-align: top;\n",
       "    }\n",
       "\n",
       "    .dataframe thead th {\n",
       "        text-align: right;\n",
       "    }\n",
       "</style>\n",
       "<table border=\"1\" class=\"dataframe\">\n",
       "  <thead>\n",
       "    <tr style=\"text-align: right;\">\n",
       "      <th></th>\n",
       "      <th>Year</th>\n",
       "      <th>Prisoner Population</th>\n",
       "      <th>Total Crime</th>\n",
       "      <th>Shifted</th>\n",
       "      <th>Release Rate</th>\n",
       "    </tr>\n",
       "  </thead>\n",
       "  <tbody>\n",
       "    <tr>\n",
       "      <th>0</th>\n",
       "      <td>2002</td>\n",
       "      <td>1367361</td>\n",
       "      <td>11833155.0</td>\n",
       "      <td>1329806.0</td>\n",
       "      <td>2.747</td>\n",
       "    </tr>\n",
       "    <tr>\n",
       "      <th>1</th>\n",
       "      <td>2003</td>\n",
       "      <td>1394115</td>\n",
       "      <td>11784781.0</td>\n",
       "      <td>1367361.0</td>\n",
       "      <td>1.919</td>\n",
       "    </tr>\n",
       "    <tr>\n",
       "      <th>2</th>\n",
       "      <td>2004</td>\n",
       "      <td>1421816</td>\n",
       "      <td>11644988.0</td>\n",
       "      <td>1394115.0</td>\n",
       "      <td>1.948</td>\n",
       "    </tr>\n",
       "    <tr>\n",
       "      <th>3</th>\n",
       "      <td>2005</td>\n",
       "      <td>1447435</td>\n",
       "      <td>11531334.0</td>\n",
       "      <td>1421816.0</td>\n",
       "      <td>1.770</td>\n",
       "    </tr>\n",
       "    <tr>\n",
       "      <th>4</th>\n",
       "      <td>2006</td>\n",
       "      <td>1488380</td>\n",
       "      <td>11418888.0</td>\n",
       "      <td>1447435.0</td>\n",
       "      <td>2.751</td>\n",
       "    </tr>\n",
       "    <tr>\n",
       "      <th>5</th>\n",
       "      <td>2007</td>\n",
       "      <td>1513390</td>\n",
       "      <td>11267935.0</td>\n",
       "      <td>1488380.0</td>\n",
       "      <td>1.653</td>\n",
       "    </tr>\n",
       "    <tr>\n",
       "      <th>6</th>\n",
       "      <td>2008</td>\n",
       "      <td>1522953</td>\n",
       "      <td>11129893.0</td>\n",
       "      <td>1513390.0</td>\n",
       "      <td>0.628</td>\n",
       "    </tr>\n",
       "    <tr>\n",
       "      <th>7</th>\n",
       "      <td>2009</td>\n",
       "      <td>1524650</td>\n",
       "      <td>10626372.0</td>\n",
       "      <td>1522953.0</td>\n",
       "      <td>0.111</td>\n",
       "    </tr>\n",
       "    <tr>\n",
       "      <th>8</th>\n",
       "      <td>2010</td>\n",
       "      <td>1521413</td>\n",
       "      <td>10327045.0</td>\n",
       "      <td>1524650.0</td>\n",
       "      <td>-0.213</td>\n",
       "    </tr>\n",
       "    <tr>\n",
       "      <th>9</th>\n",
       "      <td>2011</td>\n",
       "      <td>1504986</td>\n",
       "      <td>10221687.0</td>\n",
       "      <td>1521413.0</td>\n",
       "      <td>-1.092</td>\n",
       "    </tr>\n",
       "    <tr>\n",
       "      <th>10</th>\n",
       "      <td>2012</td>\n",
       "      <td>1483913</td>\n",
       "      <td>10180436.0</td>\n",
       "      <td>1504986.0</td>\n",
       "      <td>-1.420</td>\n",
       "    </tr>\n",
       "    <tr>\n",
       "      <th>11</th>\n",
       "      <td>2013</td>\n",
       "      <td>1485266</td>\n",
       "      <td>9810933.0</td>\n",
       "      <td>1483913.0</td>\n",
       "      <td>0.091</td>\n",
       "    </tr>\n",
       "    <tr>\n",
       "      <th>12</th>\n",
       "      <td>2014</td>\n",
       "      <td>1479300</td>\n",
       "      <td>9433470.0</td>\n",
       "      <td>1485266.0</td>\n",
       "      <td>-0.403</td>\n",
       "    </tr>\n",
       "    <tr>\n",
       "      <th>13</th>\n",
       "      <td>2015</td>\n",
       "      <td>1440722</td>\n",
       "      <td>8792537.0</td>\n",
       "      <td>1479300.0</td>\n",
       "      <td>-2.678</td>\n",
       "    </tr>\n",
       "    <tr>\n",
       "      <th>14</th>\n",
       "      <td>2016</td>\n",
       "      <td>1417017</td>\n",
       "      <td>9173523.0</td>\n",
       "      <td>1440722.0</td>\n",
       "      <td>-1.673</td>\n",
       "    </tr>\n",
       "  </tbody>\n",
       "</table>\n",
       "</div>"
      ],
      "text/plain": [
       "    Year  Prisoner Population  Total Crime    Shifted  Release Rate\n",
       "0   2002              1367361   11833155.0  1329806.0         2.747\n",
       "1   2003              1394115   11784781.0  1367361.0         1.919\n",
       "2   2004              1421816   11644988.0  1394115.0         1.948\n",
       "3   2005              1447435   11531334.0  1421816.0         1.770\n",
       "4   2006              1488380   11418888.0  1447435.0         2.751\n",
       "5   2007              1513390   11267935.0  1488380.0         1.653\n",
       "6   2008              1522953   11129893.0  1513390.0         0.628\n",
       "7   2009              1524650   10626372.0  1522953.0         0.111\n",
       "8   2010              1521413   10327045.0  1524650.0        -0.213\n",
       "9   2011              1504986   10221687.0  1521413.0        -1.092\n",
       "10  2012              1483913   10180436.0  1504986.0        -1.420\n",
       "11  2013              1485266    9810933.0  1483913.0         0.091\n",
       "12  2014              1479300    9433470.0  1485266.0        -0.403\n",
       "13  2015              1440722    8792537.0  1479300.0        -2.678\n",
       "14  2016              1417017    9173523.0  1440722.0        -1.673"
      ]
     },
     "execution_count": 9,
     "metadata": {},
     "output_type": "execute_result"
    }
   ],
   "source": [
    "#Create new column that shifts total pop down by 1 then calculate the change\n",
    "crime_df['Shifted'] = crime_df.groupby('State')['Prisoner Population'].shift(1)\n",
    "release = crime_df.groupby(['Year']).sum()\n",
    "release['Release Rate'] = round((release['Prisoner Population'] - release['Shifted'])/release['Prisoner Population']*100,3)\n",
    "\n",
    "#drop 2001 (first year) data\n",
    "release = release.drop(release.index[0])\n",
    "\n",
    "#reset indices\n",
    "release.reset_index()"
   ]
  },
  {
   "cell_type": "markdown",
   "metadata": {},
   "source": [
    "# 3. Data Analysis (Exploration & Visuals)"
   ]
  },
  {
   "cell_type": "markdown",
   "metadata": {},
   "source": [
    "### 3.1 Nationwide Analysis"
   ]
  },
  {
   "cell_type": "code",
   "execution_count": 70,
   "metadata": {},
   "outputs": [],
   "source": [
    "#Creat formula for easier plot creation\n",
    "def linePlotDualY_grouped(group_column,\n",
    "                          ax1_df,ax1_column, ax1_label, ax1_color,\n",
    "                          ax2_df,ax2_column, ax2_label, ax2_color,\n",
    "                          chart_title):\n",
    "    fig, ax1 = plt.subplots()\n",
    "    ax1_group = ax1_df.groupby([group_column]).sum()[ax1_column]\n",
    "    ax1.plot(ax1_group, color=ax1_color, label = ax1_label)\n",
    "    ax1.set_ylabel(ax1_label, color=ax1_color)\n",
    "\n",
    "    ax2 = ax1.twinx()\n",
    "    ax2_group = ax2_df.groupby([group_column]).sum()[ax2_column]\n",
    "    ax2.plot(ax2_group, color=ax2_color, label = ax2_label)\n",
    "    ax2.set_ylabel(ax2_label, color=ax2_color)\n",
    "\n",
    "    plt.grid()\n",
    "    ax1.set_xlabel(group_column)\n",
    "    plt.title(f'{chart_title} (Nationwide)')\n",
    "    \n",
    "    plt.tight_layout()\n",
    "\n",
    "    plt.savefig(f'Output/{chart_title}.png')\n",
    "\n",
    "    plt.show()"
   ]
  },
  {
   "cell_type": "code",
   "execution_count": 71,
   "metadata": {
    "scrolled": true
   },
   "outputs": [
    {
     "data": {
      "image/png": "[encoded data removed]",
      "text/plain": [
       "<Figure size 432x288 with 2 Axes>"
      ]
     },
     "metadata": {
      "needs_background": "light"
     },
     "output_type": "display_data"
    }
   ],
   "source": [
    "linePlotDualY_grouped('Year',\n",
    "                      us_crime,'Total Population', 'Total Population (100M)', 'b',\n",
    "                      us_crime,'Total Crime', 'Crime Frequency (10M)', 'r',\n",
    "                     'Total Population vs. Total Crime')"
   ]
  },
  {
   "cell_type": "code",
   "execution_count": 72,
   "metadata": {},
   "outputs": [
    {
     "data": {
      "image/png": "[encoded data removed]",
      "text/plain": [
       "<Figure size 432x288 with 2 Axes>"
      ]
     },
     "metadata": {
      "needs_background": "light"
     },
     "output_type": "display_data"
    }
   ],
   "source": [
    "# Create line chart comparing total and prison population\n",
    "linePlotDualY_grouped('Year',\n",
    "                      us_crime,'Total Population', 'Total Population (100M)', 'b',\n",
    "                      us_crime,'Prisoner Population', 'Prisoner Population', 'r',\n",
    "                     'Total Population vs. Prisoner Population')"
   ]
  },
  {
   "cell_type": "code",
   "execution_count": 78,
   "metadata": {},
   "outputs": [
    {
     "data": {
      "image/png": "[encoded data removed]",
      "text/plain": [
       "<Figure size 432x288 with 2 Axes>"
      ]
     },
     "metadata": {
      "needs_background": "light"
     },
     "output_type": "display_data"
    }
   ],
   "source": [
    "# Create line chart comparing total and median incarceration rates\n",
    "fig, ax1 = plt.subplots()\n",
    "y1 = us_crime.groupby(['Year']).sum()['Total Population']\n",
    "ax1.plot(y1, color='b')\n",
    "ax1.set_ylabel('Total Population (100M)', color='b')\n",
    "ax1.set_xlabel('Year')\n",
    "\n",
    "ax2 = ax1.twinx()\n",
    "y2 = us_crime.groupby(['Year']).median()['Incarceration Rate (%)']\n",
    "ax2.plot(y2, color='r')\n",
    "ax2.set_ylabel('Median Incarcerated Population (%)', color='r')\n",
    "\n",
    "plt.title('Total Population vs. Incarceration Rate (Nationwide)')\n",
    "\n",
    "plt.grid()\n",
    "plt.tight_layout()\n",
    "\n",
    "plt.savefig('Output/Total Population vs. Incarceration Rate_.png')\n",
    "\n",
    "plt.show()"
   ]
  },
  {
   "cell_type": "code",
   "execution_count": 114,
   "metadata": {},
   "outputs": [
    {
     "data": {
      "image/png": "[encoded data removed]",
      "text/plain": [
       "<Figure size 432x288 with 2 Axes>"
      ]
     },
     "metadata": {
      "needs_background": "light"
     },
     "output_type": "display_data"
    }
   ],
   "source": [
    "# Create line chart comparing total crime and prison population\n",
    "linePlotDualY_grouped('Year',\n",
    "                      us_crime,'Prisoner Population', 'Prisoner Population', 'b',\n",
    "                      us_crime,'Total Crime', 'Crime Frequency (10M)', 'r',\n",
    "                      'Total Crime vs. Total Prisoner Pop.')"
   ]
  },
  {
   "cell_type": "code",
   "execution_count": 16,
   "metadata": {},
   "outputs": [
    {
     "data": {
      "image/png": "[encoded data removed]",
      "text/plain": [
       "<Figure size 432x288 with 1 Axes>"
      ]
     },
     "metadata": {
      "needs_background": "light"
     },
     "output_type": "display_data"
    }
   ],
   "source": [
    "# Create bar chart depicting the %change in the released population\n",
    "pos = release[release[\"Release Rate\"] > 0]\n",
    "neg = release[release[\"Release Rate\"] < 0]\n",
    "\n",
    "\n",
    "plt.bar(pos.index, pos[\"Release Rate\"], color='b')\n",
    "plt.bar(neg.index, neg[\"Release Rate\"], color='r')\n",
    "plt.ylabel('Release Rate (%)')\n",
    "plt.title('Change in Release Rate (Nationwide)')\n",
    "plt.grid() \n",
    "plt.savefig('Output/Change in Release Rate.png')\n",
    "\n",
    "plt.show()"
   ]
  },
  {
   "cell_type": "markdown",
   "metadata": {},
   "source": [
    "### 3.2 State-Level Analysis"
   ]
  },
  {
   "cell_type": "code",
   "execution_count": 17,
   "metadata": {},
   "outputs": [
    {
     "data": {
      "image/png": "[encoded data removed]",
      "text/plain": [
       "<Figure size 432x288 with 1 Axes>"
      ]
     },
     "metadata": {
      "needs_background": "light"
     },
     "output_type": "display_data"
    }
   ],
   "source": [
    "plt.scatter(us_crime['Total Population'], us_crime['Incarceration Rate (%)'], edgecolor = 'black', alpha = 0.6)\n",
    "plt.title('State Population vs. Incarcerated Population')\n",
    "plt.xlabel('State Population (10M)')\n",
    "plt.ylabel('Incarceration Rate (%)')\n",
    "plt.grid()\n",
    "\n",
    "plt.savefig('Output/State Population vs. Incarcerated Population.png')\n",
    "\n",
    "plt.show()"
   ]
  },
  {
   "cell_type": "code",
   "execution_count": 95,
   "metadata": {},
   "outputs": [
    {
     "data": {
      "image/png": "[encoded data removed]",
      "text/plain": [
       "<Figure size 432x288 with 1 Axes>"
      ]
     },
     "metadata": {
      "needs_background": "light"
     },
     "output_type": "display_data"
    }
   ],
   "source": [
    "sns.distplot(filter_2016['Incarceration Rate (%)'], kde=True, bins=10)\n",
    "plt.savefig('Output/Incar Rate Dist.png')"
   ]
  },
  {
   "cell_type": "markdown",
   "metadata": {},
   "source": [
    "### 3.3 Regions Analysis\n",
    "Create a new dataframes that regionalizes state-level metrics"
   ]
  },
  {
   "cell_type": "markdown",
   "metadata": {},
   "source": [
    "#### 3.3.1 Regions"
   ]
  },
  {
   "cell_type": "code",
   "execution_count": 110,
   "metadata": {
    "scrolled": true
   },
   "outputs": [
    {
     "data": {
      "text/html": [
       "<div>\n",
       "<style scoped>\n",
       "    .dataframe tbody tr th:only-of-type {\n",
       "        vertical-align: middle;\n",
       "    }\n",
       "\n",
       "    .dataframe tbody tr th {\n",
       "        vertical-align: top;\n",
       "    }\n",
       "\n",
       "    .dataframe thead th {\n",
       "        text-align: right;\n",
       "    }\n",
       "</style>\n",
       "<table border=\"1\" class=\"dataframe\">\n",
       "  <thead>\n",
       "    <tr style=\"text-align: right;\">\n",
       "      <th></th>\n",
       "      <th>Size</th>\n",
       "      <th>Prisoner Population</th>\n",
       "      <th>Total Crime</th>\n",
       "      <th>Total Population</th>\n",
       "      <th>Incarceration Rate (%)</th>\n",
       "      <th>Population Density</th>\n",
       "    </tr>\n",
       "    <tr>\n",
       "      <th>Region</th>\n",
       "      <th></th>\n",
       "      <th></th>\n",
       "      <th></th>\n",
       "      <th></th>\n",
       "      <th></th>\n",
       "      <th></th>\n",
       "    </tr>\n",
       "  </thead>\n",
       "  <tbody>\n",
       "    <tr>\n",
       "      <th>Northeast</th>\n",
       "      <td>161912</td>\n",
       "      <td>152011</td>\n",
       "      <td>1086187.0</td>\n",
       "      <td>56065769</td>\n",
       "      <td>0.271</td>\n",
       "      <td>346.0</td>\n",
       "    </tr>\n",
       "    <tr>\n",
       "      <th>West</th>\n",
       "      <td>1751054</td>\n",
       "      <td>270719</td>\n",
       "      <td>2442836.0</td>\n",
       "      <td>75060190</td>\n",
       "      <td>0.361</td>\n",
       "      <td>43.0</td>\n",
       "    </tr>\n",
       "    <tr>\n",
       "      <th>Midwest</th>\n",
       "      <td>750524</td>\n",
       "      <td>256430</td>\n",
       "      <td>1808190.0</td>\n",
       "      <td>67676480</td>\n",
       "      <td>0.379</td>\n",
       "      <td>90.0</td>\n",
       "    </tr>\n",
       "    <tr>\n",
       "      <th>South</th>\n",
       "      <td>868356</td>\n",
       "      <td>549546</td>\n",
       "      <td>3836310.0</td>\n",
       "      <td>119096714</td>\n",
       "      <td>0.461</td>\n",
       "      <td>137.0</td>\n",
       "    </tr>\n",
       "  </tbody>\n",
       "</table>\n",
       "</div>"
      ],
      "text/plain": [
       "              Size  Prisoner Population  Total Crime  Total Population  \\\n",
       "Region                                                                   \n",
       "Northeast   161912               152011    1086187.0          56065769   \n",
       "West       1751054               270719    2442836.0          75060190   \n",
       "Midwest     750524               256430    1808190.0          67676480   \n",
       "South       868356               549546    3836310.0         119096714   \n",
       "\n",
       "           Incarceration Rate (%)  Population Density  \n",
       "Region                                                 \n",
       "Northeast                   0.271               346.0  \n",
       "West                        0.361                43.0  \n",
       "Midwest                     0.379                90.0  \n",
       "South                       0.461               137.0  "
      ]
     },
     "execution_count": 110,
     "metadata": {},
     "output_type": "execute_result"
    }
   ],
   "source": [
    "region_group = region_crime.groupby(['Region']).sum()\n",
    "\n",
    "#Calculate regions' population density\n",
    "region_group['Population Density'] = round(region_group['Total Population']/region_group['Size'],0) #People per Sq. Mi.\n",
    "\n",
    "#Calculate regions' incarceration rates\n",
    "region_group['Incarceration Rate (%)'] = round(region_group['Prisoner Population']/region_group['Total Population'],5)*100\n",
    "region_group.sort_values(['Incarceration Rate (%)'], inplace = True)\n",
    "\n",
    "region_group"
   ]
  },
  {
   "cell_type": "code",
   "execution_count": 111,
   "metadata": {},
   "outputs": [
    {
     "data": {
      "image/png": "[encoded data removed]",
      "text/plain": [
       "<Figure size 720x432 with 2 Axes>"
      ]
     },
     "metadata": {
      "needs_background": "light"
     },
     "output_type": "display_data"
    }
   ],
   "source": [
    "fig, ax1 = plt.subplots(figsize=(10, 6))\n",
    "plt.grid(zorder=0)\n",
    "\n",
    "incar_rate = region_group['Incarceration Rate (%)']\n",
    "ax1.bar(region_group.index,incar_rate, color='b', width=.5, edgecolor = 'black', alpha = 0.9,zorder=2)\n",
    "ax1.set_ylabel('Incarceration Rate (%)', color='b')\n",
    "\n",
    "ax2 = ax1.twinx()\n",
    "total_pop = region_group['Population Density']\n",
    "ax2.bar(region_group.index,total_pop, color='r', width=.5, align='edge', edgecolor = 'black', alpha = 0.9,zorder=2)\n",
    "ax2.set_ylabel('Population Denisty (People per Sq. Mi.)', color='r')\n",
    "\n",
    "\n",
    "ax1.set_xlabel('Region')\n",
    "plt.title('Incarceration Rate vs. Population Density - Region - 2016')\n",
    "\n",
    "\n",
    "plt.tight_layout()\n",
    "\n",
    "plt.savefig('Output/Region Rate vs. Population.png')\n",
    "\n",
    "plt.show()"
   ]
  },
  {
   "cell_type": "markdown",
   "metadata": {},
   "source": [
    "#### 3.3.2 Sub Regions"
   ]
  },
  {
   "cell_type": "code",
   "execution_count": 107,
   "metadata": {
    "scrolled": true
   },
   "outputs": [
    {
     "data": {
      "text/html": [
       "<div>\n",
       "<style scoped>\n",
       "    .dataframe tbody tr th:only-of-type {\n",
       "        vertical-align: middle;\n",
       "    }\n",
       "\n",
       "    .dataframe tbody tr th {\n",
       "        vertical-align: top;\n",
       "    }\n",
       "\n",
       "    .dataframe thead th {\n",
       "        text-align: right;\n",
       "    }\n",
       "</style>\n",
       "<table border=\"1\" class=\"dataframe\">\n",
       "  <thead>\n",
       "    <tr style=\"text-align: right;\">\n",
       "      <th></th>\n",
       "      <th>Size</th>\n",
       "      <th>Prisoner Population</th>\n",
       "      <th>Total Crime</th>\n",
       "      <th>Total Population</th>\n",
       "      <th>Incarceration Rate (%)</th>\n",
       "      <th>Population Density</th>\n",
       "    </tr>\n",
       "    <tr>\n",
       "      <th>Sub Region</th>\n",
       "      <th></th>\n",
       "      <th></th>\n",
       "      <th></th>\n",
       "      <th></th>\n",
       "      <th></th>\n",
       "      <th></th>\n",
       "    </tr>\n",
       "  </thead>\n",
       "  <tbody>\n",
       "    <tr>\n",
       "      <th>New England</th>\n",
       "      <td>62689</td>\n",
       "      <td>33655</td>\n",
       "      <td>283992.0</td>\n",
       "      <td>14668879</td>\n",
       "      <td>0.229</td>\n",
       "      <td>234.0</td>\n",
       "    </tr>\n",
       "    <tr>\n",
       "      <th>Mid Atlantic</th>\n",
       "      <td>99223</td>\n",
       "      <td>118356</td>\n",
       "      <td>802195.0</td>\n",
       "      <td>41396890</td>\n",
       "      <td>0.286</td>\n",
       "      <td>417.0</td>\n",
       "    </tr>\n",
       "    <tr>\n",
       "      <th>Pacific</th>\n",
       "      <td>895287</td>\n",
       "      <td>170783</td>\n",
       "      <td>1663307.0</td>\n",
       "      <td>51860147</td>\n",
       "      <td>0.329</td>\n",
       "      <td>58.0</td>\n",
       "    </tr>\n",
       "    <tr>\n",
       "      <th>West North Central</th>\n",
       "      <td>507621</td>\n",
       "      <td>71214</td>\n",
       "      <td>591542.0</td>\n",
       "      <td>20983879</td>\n",
       "      <td>0.339</td>\n",
       "      <td>41.0</td>\n",
       "    </tr>\n",
       "    <tr>\n",
       "      <th>East South Central</th>\n",
       "      <td>178289</td>\n",
       "      <td>70871</td>\n",
       "      <td>601892.0</td>\n",
       "      <td>18790354</td>\n",
       "      <td>0.377</td>\n",
       "      <td>105.0</td>\n",
       "    </tr>\n",
       "    <tr>\n",
       "      <th>East North Central</th>\n",
       "      <td>242903</td>\n",
       "      <td>185216</td>\n",
       "      <td>1216648.0</td>\n",
       "      <td>46692601</td>\n",
       "      <td>0.397</td>\n",
       "      <td>192.0</td>\n",
       "    </tr>\n",
       "    <tr>\n",
       "      <th>Mountain</th>\n",
       "      <td>855767</td>\n",
       "      <td>99936</td>\n",
       "      <td>779529.0</td>\n",
       "      <td>23200043</td>\n",
       "      <td>0.431</td>\n",
       "      <td>27.0</td>\n",
       "    </tr>\n",
       "    <tr>\n",
       "      <th>South Atlantic</th>\n",
       "      <td>265001</td>\n",
       "      <td>270140</td>\n",
       "      <td>1911954.0</td>\n",
       "      <td>61860194</td>\n",
       "      <td>0.437</td>\n",
       "      <td>233.0</td>\n",
       "    </tr>\n",
       "    <tr>\n",
       "      <th>West South Central</th>\n",
       "      <td>425066</td>\n",
       "      <td>208535</td>\n",
       "      <td>1322464.0</td>\n",
       "      <td>38446166</td>\n",
       "      <td>0.542</td>\n",
       "      <td>90.0</td>\n",
       "    </tr>\n",
       "  </tbody>\n",
       "</table>\n",
       "</div>"
      ],
      "text/plain": [
       "                      Size  Prisoner Population  Total Crime  \\\n",
       "Sub Region                                                     \n",
       "New England          62689                33655     283992.0   \n",
       "Mid Atlantic         99223               118356     802195.0   \n",
       "Pacific             895287               170783    1663307.0   \n",
       "West North Central  507621                71214     591542.0   \n",
       "East South Central  178289                70871     601892.0   \n",
       "East North Central  242903               185216    1216648.0   \n",
       "Mountain            855767                99936     779529.0   \n",
       "South Atlantic      265001               270140    1911954.0   \n",
       "West South Central  425066               208535    1322464.0   \n",
       "\n",
       "                    Total Population  Incarceration Rate (%)  \\\n",
       "Sub Region                                                     \n",
       "New England                 14668879                   0.229   \n",
       "Mid Atlantic                41396890                   0.286   \n",
       "Pacific                     51860147                   0.329   \n",
       "West North Central          20983879                   0.339   \n",
       "East South Central          18790354                   0.377   \n",
       "East North Central          46692601                   0.397   \n",
       "Mountain                    23200043                   0.431   \n",
       "South Atlantic              61860194                   0.437   \n",
       "West South Central          38446166                   0.542   \n",
       "\n",
       "                    Population Density  \n",
       "Sub Region                              \n",
       "New England                      234.0  \n",
       "Mid Atlantic                     417.0  \n",
       "Pacific                           58.0  \n",
       "West North Central                41.0  \n",
       "East South Central               105.0  \n",
       "East North Central               192.0  \n",
       "Mountain                          27.0  \n",
       "South Atlantic                   233.0  \n",
       "West South Central                90.0  "
      ]
     },
     "execution_count": 107,
     "metadata": {},
     "output_type": "execute_result"
    }
   ],
   "source": [
    "sub_group = region_crime.groupby(['Sub Region']).sum()\n",
    "\n",
    "#Calculate sub-regions' population density\n",
    "sub_group['Population Density'] = round(sub_group['Total Population']/sub_group['Size'],0) #People per Sq. Mi.\n",
    "\n",
    "#Calculate sub-regions' icarceration rates\n",
    "sub_group['Incarceration Rate (%)'] = round(sub_group['Prisoner Population']/sub_group['Total Population'],5)*100\n",
    "sub_group.sort_values(['Incarceration Rate (%)'], inplace = True)\n",
    "\n",
    "sub_group"
   ]
  },
  {
   "cell_type": "code",
   "execution_count": 109,
   "metadata": {},
   "outputs": [
    {
     "data": {
      "image/png": "[encoded data removed]",
      "text/plain": [
       "<Figure size 720x432 with 2 Axes>"
      ]
     },
     "metadata": {
      "needs_background": "light"
     },
     "output_type": "display_data"
    }
   ],
   "source": [
    "fig, ax1 = plt.subplots(figsize=(10, 6))\n",
    "plt.grid(zorder=0)\n",
    "\n",
    "incar_rate = sub_group['Incarceration Rate (%)']\n",
    "ax1.bar(sub_group.index,incar_rate, color='b', width=.5, edgecolor = 'black', alpha = 0.9,zorder=2)\n",
    "ax1.set_ylabel('Incarceration Rate (%)', color='b')\n",
    "plt.xticks(rotation=45, ha='center')\n",
    "\n",
    "ax2 = ax1.twinx()\n",
    "total_pop = sub_group['Population Density']\n",
    "ax2.bar(sub_group.index,total_pop, color='r', width=.5, align='edge', edgecolor = 'black', alpha = 0.9,zorder=2)\n",
    "ax2.set_ylabel('Population Density (People per Sq. Mi.)', color='r')\n",
    "\n",
    "\n",
    "ax1.set_xlabel('Sub Region')\n",
    "plt.title('Incarceration Rate vs. Population Density - Sub Region - 2016')\n",
    "\n",
    "\n",
    "plt.tight_layout()\n",
    "\n",
    "plt.savefig('Output/Sub Rate vs. Population.png')\n",
    "\n",
    "plt.show()"
   ]
  },
  {
   "cell_type": "markdown",
   "metadata": {},
   "source": [
    "# 4. Statistical Test (ANOVA)"
   ]
  },
  {
   "cell_type": "code",
   "execution_count": 85,
   "metadata": {},
   "outputs": [
    {
     "data": {
      "text/html": [
       "<div>\n",
       "<style scoped>\n",
       "    .dataframe tbody tr th:only-of-type {\n",
       "        vertical-align: middle;\n",
       "    }\n",
       "\n",
       "    .dataframe tbody tr th {\n",
       "        vertical-align: top;\n",
       "    }\n",
       "\n",
       "    .dataframe thead th {\n",
       "        text-align: right;\n",
       "    }\n",
       "</style>\n",
       "<table border=\"1\" class=\"dataframe\">\n",
       "  <thead>\n",
       "    <tr style=\"text-align: right;\">\n",
       "      <th></th>\n",
       "      <th>Region</th>\n",
       "      <th>Sub Region</th>\n",
       "      <th>State</th>\n",
       "      <th>Prisoner Population</th>\n",
       "      <th>Total Crime</th>\n",
       "      <th>Total Population</th>\n",
       "      <th>Incarceration Rate (%)</th>\n",
       "    </tr>\n",
       "  </thead>\n",
       "  <tbody>\n",
       "    <tr>\n",
       "      <th>24</th>\n",
       "      <td>Midwest</td>\n",
       "      <td>West North Central</td>\n",
       "      <td>Missouri</td>\n",
       "      <td>32427</td>\n",
       "      <td>202381.0</td>\n",
       "      <td>6059651</td>\n",
       "      <td>0.535</td>\n",
       "    </tr>\n",
       "    <tr>\n",
       "      <th>48</th>\n",
       "      <td>Midwest</td>\n",
       "      <td>East North Central</td>\n",
       "      <td>Wisconsin</td>\n",
       "      <td>23163</td>\n",
       "      <td>129627.0</td>\n",
       "      <td>5754798</td>\n",
       "      <td>0.402</td>\n",
       "    </tr>\n",
       "    <tr>\n",
       "      <th>22</th>\n",
       "      <td>Midwest</td>\n",
       "      <td>West North Central</td>\n",
       "      <td>Minnesota</td>\n",
       "      <td>9509</td>\n",
       "      <td>131088.0</td>\n",
       "      <td>5450868</td>\n",
       "      <td>0.174</td>\n",
       "    </tr>\n",
       "    <tr>\n",
       "      <th>21</th>\n",
       "      <td>Midwest</td>\n",
       "      <td>East North Central</td>\n",
       "      <td>Michigan</td>\n",
       "      <td>41122</td>\n",
       "      <td>236031.0</td>\n",
       "      <td>9909600</td>\n",
       "      <td>0.415</td>\n",
       "    </tr>\n",
       "    <tr>\n",
       "      <th>33</th>\n",
       "      <td>Midwest</td>\n",
       "      <td>West North Central</td>\n",
       "      <td>North Dakota</td>\n",
       "      <td>1639</td>\n",
       "      <td>19356.0</td>\n",
       "      <td>736162</td>\n",
       "      <td>0.223</td>\n",
       "    </tr>\n",
       "  </tbody>\n",
       "</table>\n",
       "</div>"
      ],
      "text/plain": [
       "     Region          Sub Region         State  Prisoner Population  \\\n",
       "24  Midwest  West North Central      Missouri                32427   \n",
       "48  Midwest  East North Central     Wisconsin                23163   \n",
       "22  Midwest  West North Central     Minnesota                 9509   \n",
       "21  Midwest  East North Central      Michigan                41122   \n",
       "33  Midwest  West North Central  North Dakota                 1639   \n",
       "\n",
       "    Total Crime  Total Population  Incarceration Rate (%)  \n",
       "24     202381.0           6059651                   0.535  \n",
       "48     129627.0           5754798                   0.402  \n",
       "22     131088.0           5450868                   0.174  \n",
       "21     236031.0           9909600                   0.415  \n",
       "33      19356.0            736162                   0.223  "
      ]
     },
     "execution_count": 85,
     "metadata": {},
     "output_type": "execute_result"
    }
   ],
   "source": [
    "region_crime.head()"
   ]
  },
  {
   "cell_type": "markdown",
   "metadata": {},
   "source": [
    "### 4.1 ANOVA - Regions"
   ]
  },
  {
   "cell_type": "code",
   "execution_count": 86,
   "metadata": {
    "scrolled": false
   },
   "outputs": [
    {
     "data": {
      "text/plain": [
       "F_onewayResult(statistic=5.114364150439532, pvalue=0.0038831351683559644)"
      ]
     },
     "execution_count": 86,
     "metadata": {},
     "output_type": "execute_result"
    },
    {
     "data": {
      "image/png": "[encoded data removed]",
      "text/plain": [
       "<Figure size 1440x720 with 1 Axes>"
      ]
     },
     "metadata": {
      "needs_background": "light"
     },
     "output_type": "display_data"
    }
   ],
   "source": [
    "# Create a boxplot to compare means\n",
    "region_crime.boxplot('Incarceration Rate (%)', by='Region', figsize=(20, 10))\n",
    "plt.ylabel('Incarceration Rate (%)')\n",
    "plt.title('Incarceration Rate by Region - 2016')\n",
    "\n",
    "plt.savefig('Output/Incarceration Rate by Region - 2016.png')\n",
    "\n",
    "# Extract individual groups\n",
    "group1 = region_crime[region_crime['Region'] == 'South'][\"Incarceration Rate (%)\"]\n",
    "group2 = region_crime[region_crime['Region'] == 'Northeast'][\"Incarceration Rate (%)\"]\n",
    "group3 = region_crime[region_crime['Region'] == 'Midwest'][\"Incarceration Rate (%)\"]\n",
    "group4 = region_crime[region_crime['Region'] == 'West'][\"Incarceration Rate (%)\"]\n",
    "\n",
    "\n",
    "# Perform the ANOVA\n",
    "stats.f_oneway(group1, group2, group3, group4)"
   ]
  },
  {
   "cell_type": "markdown",
   "metadata": {},
   "source": [
    "### 4.1 ANOVA - Sub Regions"
   ]
  },
  {
   "cell_type": "code",
   "execution_count": 87,
   "metadata": {},
   "outputs": [
    {
     "data": {
      "text/plain": [
       "F_onewayResult(statistic=2.400450969168164, pvalue=0.03177104915420652)"
      ]
     },
     "execution_count": 87,
     "metadata": {},
     "output_type": "execute_result"
    },
    {
     "data": {
      "image/png": "[encoded data removed]",
      "text/plain": [
       "<Figure size 1440x720 with 1 Axes>"
      ]
     },
     "metadata": {
      "needs_background": "light"
     },
     "output_type": "display_data"
    }
   ],
   "source": [
    "# Create a boxplot to compare means\n",
    "region_crime.boxplot('Incarceration Rate (%)', by='Sub Region', figsize=(20, 10))\n",
    "plt.ylabel('Incarceration Rate (%)')\n",
    "plt.title('Incarceration Rate by Sub Region - 2016')\n",
    "\n",
    "plt.savefig('Output/Incarceration Rate by Sub Region - 2016.png')\n",
    "\n",
    "# Extract individual groups\n",
    "group1 = region_crime[region_crime['Sub Region'] == 'Mid Atlantic'][\"Incarceration Rate (%)\"]\n",
    "group2 = region_crime[region_crime['Sub Region'] == 'Mountain'][\"Incarceration Rate (%)\"]\n",
    "group3 = region_crime[region_crime['Sub Region'] == 'Pacific'][\"Incarceration Rate (%)\"]\n",
    "group4 = region_crime[region_crime['Sub Region'] == 'South Atlantic'][\"Incarceration Rate (%)\"]\n",
    "group5 = region_crime[region_crime['Sub Region'] == 'New England'][\"Incarceration Rate (%)\"]\n",
    "group6 = region_crime[region_crime['Sub Region'] == 'East North Central'][\"Incarceration Rate (%)\"]\n",
    "group7 = region_crime[region_crime['Sub Region'] == 'East South Central'][\"Incarceration Rate (%)\"]\n",
    "group8 = region_crime[region_crime['Sub Region'] == 'West North Central'][\"Incarceration Rate (%)\"]\n",
    "group9 = region_crime[region_crime['Sub Region'] == 'West South Central'][\"Incarceration Rate (%)\"]\n",
    "\n",
    "# Perform the ANOVA\n",
    "stats.f_oneway(group1, group2, group3, group4, group5, group6, group7, group8, group9)"
   ]
  }
 ],
 "metadata": {
  "kernelspec": {
   "display_name": "Python [conda env:PythonData]",
   "language": "python",
   "name": "conda-env-PythonData-py"
  },
  "language_info": {
   "codemirror_mode": {
    "name": "ipython",
    "version": 3
   },
   "file_extension": ".py",
   "mimetype": "text/x-python",
   "name": "python",
   "nbconvert_exporter": "python",
   "pygments_lexer": "ipython3",
   "version": "3.6.9"
  }
 },
 "nbformat": 4,
 "nbformat_minor": 2
}
